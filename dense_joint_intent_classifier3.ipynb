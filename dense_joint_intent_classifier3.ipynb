{
  "nbformat": 4,
  "nbformat_minor": 0,
  "metadata": {
    "colab": {
      "name": "dense_joint_intent_classifier3.ipynb",
      "version": "0.3.2",
      "provenance": [],
      "collapsed_sections": [],
      "toc_visible": true,
      "include_colab_link": true
    },
    "kernelspec": {
      "name": "python3",
      "display_name": "Python 3"
    },
    "accelerator": "GPU"
  },
  "cells": [
    {
      "cell_type": "markdown",
      "metadata": {
        "id": "view-in-github",
        "colab_type": "text"
      },
      "source": [
        "<a href=\"https://colab.research.google.com/github/Z3376/Joint-Intent-Classification-and-Slot-Filling/blob/master/dense_joint_intent_classifier3.ipynb\" target=\"_parent\"><img src=\"https://colab.research.google.com/assets/colab-badge.svg\" alt=\"Open In Colab\"/></a>"
      ]
    },
    {
      "cell_type": "code",
      "metadata": {
        "id": "xbUL7gT1GLku",
        "colab_type": "code",
        "outputId": "9d708306-337c-4b35-cc7c-03a579ba70f2",
        "colab": {
          "base_uri": "https://localhost:8080/",
          "height": 122
        }
      },
      "source": [
        "from google.colab import drive\n",
        "drive.mount('/content/gdrive')"
      ],
      "execution_count": 0,
      "outputs": [
        {
          "output_type": "stream",
          "text": [
            "Go to this URL in a browser: https://accounts.google.com/o/oauth2/auth?client_id=947318989803-6bn6qk8qdgf4n4g3pfee6491hc0brc4i.apps.googleusercontent.com&redirect_uri=urn%3Aietf%3Awg%3Aoauth%3A2.0%3Aoob&scope=email%20https%3A%2F%2Fwww.googleapis.com%2Fauth%2Fdocs.test%20https%3A%2F%2Fwww.googleapis.com%2Fauth%2Fdrive%20https%3A%2F%2Fwww.googleapis.com%2Fauth%2Fdrive.photos.readonly%20https%3A%2F%2Fwww.googleapis.com%2Fauth%2Fpeopleapi.readonly&response_type=code\n",
            "\n",
            "Enter your authorization code:\n",
            "··········\n",
            "Mounted at /content/gdrive\n"
          ],
          "name": "stdout"
        }
      ]
    },
    {
      "cell_type": "code",
      "metadata": {
        "id": "K3Kd6L3vIeIt",
        "colab_type": "code",
        "outputId": "a440b53c-33c4-47d6-bb99-46989d74b990",
        "colab": {
          "base_uri": "https://localhost:8080/",
          "height": 272
        }
      },
      "source": [
        "!unzip /content/gdrive/My\\ Drive/Language_2.zip"
      ],
      "execution_count": 0,
      "outputs": [
        {
          "output_type": "stream",
          "text": [
            "Archive:  /content/gdrive/My Drive/Language_2.zip\n",
            "   creating: Language_2/\n",
            "  inflating: Language_2/.DS_Store    \n",
            "   creating: __MACOSX/\n",
            "   creating: __MACOSX/Language_2/\n",
            "  inflating: __MACOSX/Language_2/._.DS_Store  \n",
            "  inflating: Language_2/intents.csv  \n",
            "  inflating: Language_2/Round1_Problem2-of-2_Problem.pdf  \n",
            "  inflating: __MACOSX/Language_2/._Round1_Problem2-of-2_Problem.pdf  \n",
            "  inflating: Language_2/slots.csv    \n",
            "  inflating: Language_2/test.csv     \n",
            "  inflating: Language_2/train.csv    \n",
            "  inflating: Language_2/train_intent.csv  \n",
            "  inflating: Language_2/train_slots.csv  \n",
            "  inflating: Language_2/vocab.csv    \n"
          ],
          "name": "stdout"
        }
      ]
    },
    {
      "cell_type": "code",
      "metadata": {
        "id": "ltcjdCJkEbLF",
        "colab_type": "code",
        "outputId": "27c4b1fa-4f3b-403c-eafa-3c1fa87bf0ed",
        "colab": {
          "base_uri": "https://localhost:8080/",
          "height": 34
        }
      },
      "source": [
        "import numpy as np\n",
        "import matplotlib.pyplot as plt\n",
        "import pandas as pd\n",
        "from keras.layers import GRU\n",
        "from keras.layers import LSTM\n",
        "from keras.models import Model\n",
        "from keras import backend as K\n",
        "from keras.layers import Dense\n",
        "from keras.layers import Input\n",
        "from keras.layers import TimeDistributed\n",
        "from keras.layers import Bidirectional\n",
        "from keras.layers import RepeatVector\n",
        "from keras.utils import to_categorical\n",
        "from keras.utils import plot_model\n",
        "from keras.callbacks import EarlyStopping\n",
        "from keras.callbacks import ModelCheckpoint"
      ],
      "execution_count": 0,
      "outputs": [
        {
          "output_type": "stream",
          "text": [
            "Using TensorFlow backend.\n"
          ],
          "name": "stderr"
        }
      ]
    },
    {
      "cell_type": "markdown",
      "metadata": {
        "id": "jh1xizxwfKHl",
        "colab_type": "text"
      },
      "source": [
        "# Data"
      ]
    },
    {
      "cell_type": "code",
      "metadata": {
        "id": "DKb6NTMcI9us",
        "colab_type": "code",
        "colab": {}
      },
      "source": [
        "train = pd.read_csv('./Language_2/train.csv')\n",
        "train = train.iloc[:].values\n",
        "test = pd.read_csv('./Language_2/test.csv')\n",
        "test = test.iloc[:].values\n",
        "train_intent = pd.read_csv('./Language_2/train_intent.csv')\n",
        "train_intent = train_intent.iloc[:].values\n",
        "intent = pd.read_csv('./Language_2/intents.csv')\n",
        "intent = intent.iloc[:].values\n",
        "vocab = pd.read_csv('./Language_2/vocab.csv')\n",
        "vocab = vocab.iloc[:].values\n",
        "train_slots = pd.read_csv('./Language_2/train_slots.csv')\n",
        "train_slots = train_slots.iloc[:].values\n",
        "slots = pd.read_csv('./Language_2/slots.csv')\n",
        "slots = slots.iloc[:].values"
      ],
      "execution_count": 0,
      "outputs": []
    },
    {
      "cell_type": "code",
      "metadata": {
        "id": "ejRPXV-Cq4Jf",
        "colab_type": "code",
        "colab": {}
      },
      "source": [
        "l = 4000\n",
        "ltest = len(train)-l"
      ],
      "execution_count": 0,
      "outputs": []
    },
    {
      "cell_type": "code",
      "metadata": {
        "id": "J4jbaucD5ASX",
        "colab_type": "code",
        "colab": {}
      },
      "source": [
        "train_data = np.zeros((l,48),dtype='int32')\n",
        "for i in range(l):\n",
        "  a = train[i][0].split()\n",
        "  train_data[i] = np.array([int(a[j])-1 if j<len(a) else 0 for j in range(48)])\n",
        "train_data = to_categorical(train_data,num_classes=942)"
      ],
      "execution_count": 0,
      "outputs": []
    },
    {
      "cell_type": "code",
      "metadata": {
        "id": "d7Sgyx5o5OoA",
        "colab_type": "code",
        "colab": {}
      },
      "source": [
        "train_out_data = np.zeros((l,48),dtype='int32')\n",
        "for i in range(l):\n",
        "  a = train_slots[i][0].split()\n",
        "  train_out_data[i] = np.array([int(a[j])-1 if j<len(a) else 0 for j in range(48)])\n",
        "train_out_data = to_categorical(train_out_data,num_classes=128)"
      ],
      "execution_count": 0,
      "outputs": []
    },
    {
      "cell_type": "code",
      "metadata": {
        "id": "liQnrpUHnuSR",
        "colab_type": "code",
        "colab": {}
      },
      "source": [
        "train_intent_data = np.array([int(train_intent[i][0]) for i in range(l)])\n",
        "train_intent_data = to_categorical(train_intent_data)"
      ],
      "execution_count": 0,
      "outputs": []
    },
    {
      "cell_type": "code",
      "metadata": {
        "id": "rxY3EY4SM2_3",
        "colab_type": "code",
        "colab": {}
      },
      "source": [
        "test_data = np.zeros((ltest,48),dtype='int32')\n",
        "for i in range(l,len(train)):\n",
        "  a = train[i-l][0].split()\n",
        "  test_data[i-l] = np.array([int(a[j])-1 if j<len(a) else 0 for j in range(48)])\n",
        "test_data = to_categorical(test_data,num_classes=942)"
      ],
      "execution_count": 0,
      "outputs": []
    },
    {
      "cell_type": "code",
      "metadata": {
        "id": "NVIlsuMexXtN",
        "colab_type": "code",
        "colab": {}
      },
      "source": [
        "test_out_data = np.zeros((ltest,48),dtype='int32')\n",
        "for i in range(l,len(train)):\n",
        "  a = train_slots[i-l][0].split()\n",
        "  test_out_data[i-l] = np.array([int(a[j])-1 if j<len(a) else 0 for j in range(48)])\n",
        "test_out_data = to_categorical(test_out_data,num_classes=128)"
      ],
      "execution_count": 0,
      "outputs": []
    },
    {
      "cell_type": "code",
      "metadata": {
        "id": "Sa5sx_n7E0Bv",
        "colab_type": "code",
        "colab": {}
      },
      "source": [
        "test_intent_data = np.array([int(train_intent[i-l][0]) for i in range(l,len(train))])\n",
        "test_intent_data = to_categorical(test_intent_data)"
      ],
      "execution_count": 0,
      "outputs": []
    },
    {
      "cell_type": "markdown",
      "metadata": {
        "id": "WDYLwWZ4_jIU",
        "colab_type": "text"
      },
      "source": [
        "# RNNs"
      ]
    },
    {
      "cell_type": "code",
      "metadata": {
        "id": "lkjmlrtcwDX3",
        "colab_type": "code",
        "colab": {}
      },
      "source": [
        "gru_units = 200\n",
        "max_l = 48"
      ],
      "execution_count": 0,
      "outputs": []
    },
    {
      "cell_type": "code",
      "metadata": {
        "id": "vKKA3B8L3zTI",
        "colab_type": "code",
        "outputId": "2513c9aa-2dfc-42bf-b639-af4ba7584c50",
        "colab": {
          "base_uri": "https://localhost:8080/",
          "height": 343
        }
      },
      "source": [
        "inpt = Input((None,942))\n",
        "enc_gru = GRU(gru_units,return_sequences=True,return_state=True)\n",
        "enc_gru_outpt,enc_gru_h = enc_gru(inpt)\n",
        "slot_outpt = TimeDistributed(Dense(128,activation='softmax'),name='slot_outpt')(enc_gru_outpt)\n",
        "intent_outpt = Dense(26,activation='softmax',name='intent_outpt')(enc_gru_h)\n",
        "model = Model(inpt,[slot_outpt,intent_outpt])\n",
        "model.summary()"
      ],
      "execution_count": 0,
      "outputs": [
        {
          "output_type": "stream",
          "text": [
            "WARNING:tensorflow:From /usr/local/lib/python3.6/dist-packages/tensorflow/python/framework/op_def_library.py:263: colocate_with (from tensorflow.python.framework.ops) is deprecated and will be removed in a future version.\n",
            "Instructions for updating:\n",
            "Colocations handled automatically by placer.\n",
            "__________________________________________________________________________________________________\n",
            "Layer (type)                    Output Shape         Param #     Connected to                     \n",
            "==================================================================================================\n",
            "input_1 (InputLayer)            (None, None, 942)    0                                            \n",
            "__________________________________________________________________________________________________\n",
            "gru_1 (GRU)                     [(None, None, 200),  685800      input_1[0][0]                    \n",
            "__________________________________________________________________________________________________\n",
            "slot_outpt (TimeDistributed)    (None, None, 128)    25728       gru_1[0][0]                      \n",
            "__________________________________________________________________________________________________\n",
            "intent_outpt (Dense)            (None, 26)           5226        gru_1[0][1]                      \n",
            "==================================================================================================\n",
            "Total params: 716,754\n",
            "Trainable params: 716,754\n",
            "Non-trainable params: 0\n",
            "__________________________________________________________________________________________________\n"
          ],
          "name": "stdout"
        }
      ]
    },
    {
      "cell_type": "code",
      "metadata": {
        "id": "u2V1iJGkg8qq",
        "colab_type": "code",
        "colab": {}
      },
      "source": [
        "plot_model(model, to_file='dense_joint_model.png')"
      ],
      "execution_count": 0,
      "outputs": []
    },
    {
      "cell_type": "markdown",
      "metadata": {
        "id": "JuoI_aU0J7y1",
        "colab_type": "text"
      },
      "source": [
        "# Train"
      ]
    },
    {
      "cell_type": "code",
      "metadata": {
        "id": "ECogANJnWEJF",
        "colab_type": "code",
        "colab": {}
      },
      "source": [
        "def seq_metric_fn(s):\n",
        "  def seq_metric(y_true,y_pred):\n",
        "    y_mul = np.zeros((s,1))\n",
        "    for i in range(s):\n",
        "      y_mul[i] = i\n",
        "    y_mul = K.cast(y_mul,K.floatx())\n",
        "    y_true = K.dot(y_true,y_mul)\n",
        "    y_pred = K.dot(y_pred,y_mul)\n",
        "    return K.mean(K.square(y_true-y_pred))\n",
        "  return seq_metric\n",
        "seq_metric128 = seq_metric_fn(128)\n",
        "seq_metric26 = seq_metric_fn(26)"
      ],
      "execution_count": 0,
      "outputs": []
    },
    {
      "cell_type": "code",
      "metadata": {
        "id": "llPoMXVxhS_c",
        "colab_type": "code",
        "colab": {}
      },
      "source": [
        "output = {'slot_outpt':train_out_data,'intent_outpt':train_intent_data}\n",
        "losses = {'slot_outpt':'categorical_crossentropy','intent_outpt':'categorical_crossentropy'}\n",
        "loss_weights = {'slot_outpt':1,'intent_outpt':1}"
      ],
      "execution_count": 0,
      "outputs": []
    },
    {
      "cell_type": "code",
      "metadata": {
        "id": "MCKzM8r4SS-c",
        "colab_type": "code",
        "colab": {}
      },
      "source": [
        "print(np.argmax(train_data,axis=-1)[5])\n",
        "print(np.argmax(train_out_data,axis=-1)[5])\n",
        "print(np.argmax(train_intent_data,axis=-1)[5])"
      ],
      "execution_count": 0,
      "outputs": []
    },
    {
      "cell_type": "code",
      "metadata": {
        "id": "vu6ZCcUjV1Y_",
        "colab_type": "code",
        "colab": {}
      },
      "source": [
        "model.compile(optimizer='adam',loss=losses,loss_weights=loss_weights,metrics=['acc'])\n"
      ],
      "execution_count": 0,
      "outputs": []
    },
    {
      "cell_type": "code",
      "metadata": {
        "id": "n5UbGVEq077w",
        "colab_type": "code",
        "colab": {}
      },
      "source": [
        "#es = EarlyStopping(monitor='val_seq_metric',mode='min',verbose=1,patience=2)\n",
        "#cp = ModelCheckpoint(filepath='./gdrive/My Drive/Colab Notebooks/slot_weights.hdf5',monitor='val_seq_metric',mode='min', verbose=1,save_weights_only=True, save_best_only=True)"
      ],
      "execution_count": 0,
      "outputs": []
    },
    {
      "cell_type": "code",
      "metadata": {
        "id": "i6VIizZ3WIUw",
        "colab_type": "code",
        "outputId": "3a9e91be-72d6-4fb4-9420-fb0bf397f78b",
        "colab": {
          "base_uri": "https://localhost:8080/",
          "height": 701
        }
      },
      "source": [
        "history = model.fit(train_data,output,epochs=10,batch_size=1,validation_split=0.05)"
      ],
      "execution_count": 0,
      "outputs": [
        {
          "output_type": "stream",
          "text": [
            "WARNING:tensorflow:From /usr/local/lib/python3.6/dist-packages/tensorflow/python/ops/math_ops.py:3066: to_int32 (from tensorflow.python.ops.math_ops) is deprecated and will be removed in a future version.\n",
            "Instructions for updating:\n",
            "Use tf.cast instead.\n",
            "Train on 3800 samples, validate on 200 samples\n",
            "Epoch 1/10\n",
            "3800/3800 [==============================] - 553s 146ms/step - loss: 1.0778 - slot_outpt_loss: 0.1970 - intent_outpt_loss: 0.8808 - slot_outpt_acc: 0.9632 - intent_outpt_acc: 0.7829 - val_loss: 0.5701 - val_slot_outpt_loss: 0.0533 - val_intent_outpt_loss: 0.5168 - val_slot_outpt_acc: 0.9881 - val_intent_outpt_acc: 0.8850\n",
            "Epoch 2/10\n",
            "3800/3800 [==============================] - 448s 118ms/step - loss: 0.4102 - slot_outpt_loss: 0.0471 - intent_outpt_loss: 0.3631 - slot_outpt_acc: 0.9883 - intent_outpt_acc: 0.9071 - val_loss: 0.3170 - val_slot_outpt_loss: 0.0387 - val_intent_outpt_loss: 0.2782 - val_slot_outpt_acc: 0.9905 - val_intent_outpt_acc: 0.9500\n",
            "Epoch 3/10\n",
            "3800/3800 [==============================] - 534s 141ms/step - loss: 0.2160 - slot_outpt_loss: 0.0300 - intent_outpt_loss: 0.1860 - slot_outpt_acc: 0.9923 - intent_outpt_acc: 0.9550 - val_loss: 0.2673 - val_slot_outpt_loss: 0.0299 - val_intent_outpt_loss: 0.2374 - val_slot_outpt_acc: 0.9918 - val_intent_outpt_acc: 0.9500\n",
            "Epoch 4/10\n",
            "3800/3800 [==============================] - 544s 143ms/step - loss: 0.1353 - slot_outpt_loss: 0.0206 - intent_outpt_loss: 0.1147 - slot_outpt_acc: 0.9947 - intent_outpt_acc: 0.9708 - val_loss: 0.2061 - val_slot_outpt_loss: 0.0226 - val_intent_outpt_loss: 0.1834 - val_slot_outpt_acc: 0.9942 - val_intent_outpt_acc: 0.9600\n",
            "Epoch 5/10\n",
            "3800/3800 [==============================] - 415s 109ms/step - loss: 0.0908 - slot_outpt_loss: 0.0164 - intent_outpt_loss: 0.0744 - slot_outpt_acc: 0.9957 - intent_outpt_acc: 0.9818 - val_loss: 0.2389 - val_slot_outpt_loss: 0.0206 - val_intent_outpt_loss: 0.2183 - val_slot_outpt_acc: 0.9947 - val_intent_outpt_acc: 0.9650\n",
            "Epoch 6/10\n",
            "3800/3800 [==============================] - 341s 90ms/step - loss: 0.0664 - slot_outpt_loss: 0.0125 - intent_outpt_loss: 0.0539 - slot_outpt_acc: 0.9966 - intent_outpt_acc: 0.9861 - val_loss: 0.1691 - val_slot_outpt_loss: 0.0192 - val_intent_outpt_loss: 0.1499 - val_slot_outpt_acc: 0.9954 - val_intent_outpt_acc: 0.9850\n",
            "Epoch 7/10\n",
            "3800/3800 [==============================] - 318s 84ms/step - loss: 0.0506 - slot_outpt_loss: 0.0097 - intent_outpt_loss: 0.0409 - slot_outpt_acc: 0.9973 - intent_outpt_acc: 0.9887 - val_loss: 0.2156 - val_slot_outpt_loss: 0.0184 - val_intent_outpt_loss: 0.1972 - val_slot_outpt_acc: 0.9952 - val_intent_outpt_acc: 0.9700\n",
            "Epoch 8/10\n",
            "3800/3800 [==============================] - 343s 90ms/step - loss: 0.0526 - slot_outpt_loss: 0.0092 - intent_outpt_loss: 0.0434 - slot_outpt_acc: 0.9974 - intent_outpt_acc: 0.9905 - val_loss: 0.1992 - val_slot_outpt_loss: 0.0218 - val_intent_outpt_loss: 0.1774 - val_slot_outpt_acc: 0.9949 - val_intent_outpt_acc: 0.9700\n",
            "Epoch 9/10\n",
            " 421/3800 [==>...........................] - ETA: 5:02 - loss: 0.0279 - slot_outpt_loss: 0.0080 - intent_outpt_loss: 0.0199 - slot_outpt_acc: 0.9978 - intent_outpt_acc: 0.9952"
          ],
          "name": "stdout"
        },
        {
          "output_type": "error",
          "ename": "KeyboardInterrupt",
          "evalue": "ignored",
          "traceback": [
            "\u001b[0;31m---------------------------------------------------------------------------\u001b[0m",
            "\u001b[0;31mKeyboardInterrupt\u001b[0m                         Traceback (most recent call last)",
            "\u001b[0;32m<ipython-input-18-48decb49c2cb>\u001b[0m in \u001b[0;36m<module>\u001b[0;34m()\u001b[0m\n\u001b[0;32m----> 1\u001b[0;31m \u001b[0mhistory\u001b[0m \u001b[0;34m=\u001b[0m \u001b[0mmodel\u001b[0m\u001b[0;34m.\u001b[0m\u001b[0mfit\u001b[0m\u001b[0;34m(\u001b[0m\u001b[0mtrain_data\u001b[0m\u001b[0;34m,\u001b[0m\u001b[0moutput\u001b[0m\u001b[0;34m,\u001b[0m\u001b[0mepochs\u001b[0m\u001b[0;34m=\u001b[0m\u001b[0;36m10\u001b[0m\u001b[0;34m,\u001b[0m\u001b[0mbatch_size\u001b[0m\u001b[0;34m=\u001b[0m\u001b[0;36m1\u001b[0m\u001b[0;34m,\u001b[0m\u001b[0mvalidation_split\u001b[0m\u001b[0;34m=\u001b[0m\u001b[0;36m0.05\u001b[0m\u001b[0;34m)\u001b[0m\u001b[0;34m\u001b[0m\u001b[0;34m\u001b[0m\u001b[0m\n\u001b[0m",
            "\u001b[0;32m/usr/local/lib/python3.6/dist-packages/keras/engine/training.py\u001b[0m in \u001b[0;36mfit\u001b[0;34m(self, x, y, batch_size, epochs, verbose, callbacks, validation_split, validation_data, shuffle, class_weight, sample_weight, initial_epoch, steps_per_epoch, validation_steps, **kwargs)\u001b[0m\n\u001b[1;32m   1037\u001b[0m                                         \u001b[0minitial_epoch\u001b[0m\u001b[0;34m=\u001b[0m\u001b[0minitial_epoch\u001b[0m\u001b[0;34m,\u001b[0m\u001b[0;34m\u001b[0m\u001b[0;34m\u001b[0m\u001b[0m\n\u001b[1;32m   1038\u001b[0m                                         \u001b[0msteps_per_epoch\u001b[0m\u001b[0;34m=\u001b[0m\u001b[0msteps_per_epoch\u001b[0m\u001b[0;34m,\u001b[0m\u001b[0;34m\u001b[0m\u001b[0;34m\u001b[0m\u001b[0m\n\u001b[0;32m-> 1039\u001b[0;31m                                         validation_steps=validation_steps)\n\u001b[0m\u001b[1;32m   1040\u001b[0m \u001b[0;34m\u001b[0m\u001b[0m\n\u001b[1;32m   1041\u001b[0m     def evaluate(self, x=None, y=None,\n",
            "\u001b[0;32m/usr/local/lib/python3.6/dist-packages/keras/engine/training_arrays.py\u001b[0m in \u001b[0;36mfit_loop\u001b[0;34m(model, f, ins, out_labels, batch_size, epochs, verbose, callbacks, val_f, val_ins, shuffle, callback_metrics, initial_epoch, steps_per_epoch, validation_steps)\u001b[0m\n\u001b[1;32m    197\u001b[0m                     \u001b[0mins_batch\u001b[0m\u001b[0;34m[\u001b[0m\u001b[0mi\u001b[0m\u001b[0;34m]\u001b[0m \u001b[0;34m=\u001b[0m \u001b[0mins_batch\u001b[0m\u001b[0;34m[\u001b[0m\u001b[0mi\u001b[0m\u001b[0;34m]\u001b[0m\u001b[0;34m.\u001b[0m\u001b[0mtoarray\u001b[0m\u001b[0;34m(\u001b[0m\u001b[0;34m)\u001b[0m\u001b[0;34m\u001b[0m\u001b[0;34m\u001b[0m\u001b[0m\n\u001b[1;32m    198\u001b[0m \u001b[0;34m\u001b[0m\u001b[0m\n\u001b[0;32m--> 199\u001b[0;31m                 \u001b[0mouts\u001b[0m \u001b[0;34m=\u001b[0m \u001b[0mf\u001b[0m\u001b[0;34m(\u001b[0m\u001b[0mins_batch\u001b[0m\u001b[0;34m)\u001b[0m\u001b[0;34m\u001b[0m\u001b[0;34m\u001b[0m\u001b[0m\n\u001b[0m\u001b[1;32m    200\u001b[0m                 \u001b[0mouts\u001b[0m \u001b[0;34m=\u001b[0m \u001b[0mto_list\u001b[0m\u001b[0;34m(\u001b[0m\u001b[0mouts\u001b[0m\u001b[0;34m)\u001b[0m\u001b[0;34m\u001b[0m\u001b[0;34m\u001b[0m\u001b[0m\n\u001b[1;32m    201\u001b[0m                 \u001b[0;32mfor\u001b[0m \u001b[0ml\u001b[0m\u001b[0;34m,\u001b[0m \u001b[0mo\u001b[0m \u001b[0;32min\u001b[0m \u001b[0mzip\u001b[0m\u001b[0;34m(\u001b[0m\u001b[0mout_labels\u001b[0m\u001b[0;34m,\u001b[0m \u001b[0mouts\u001b[0m\u001b[0;34m)\u001b[0m\u001b[0;34m:\u001b[0m\u001b[0;34m\u001b[0m\u001b[0;34m\u001b[0m\u001b[0m\n",
            "\u001b[0;32m/usr/local/lib/python3.6/dist-packages/keras/backend/tensorflow_backend.py\u001b[0m in \u001b[0;36m__call__\u001b[0;34m(self, inputs)\u001b[0m\n\u001b[1;32m   2713\u001b[0m                 \u001b[0;32mreturn\u001b[0m \u001b[0mself\u001b[0m\u001b[0;34m.\u001b[0m\u001b[0m_legacy_call\u001b[0m\u001b[0;34m(\u001b[0m\u001b[0minputs\u001b[0m\u001b[0;34m)\u001b[0m\u001b[0;34m\u001b[0m\u001b[0;34m\u001b[0m\u001b[0m\n\u001b[1;32m   2714\u001b[0m \u001b[0;34m\u001b[0m\u001b[0m\n\u001b[0;32m-> 2715\u001b[0;31m             \u001b[0;32mreturn\u001b[0m \u001b[0mself\u001b[0m\u001b[0;34m.\u001b[0m\u001b[0m_call\u001b[0m\u001b[0;34m(\u001b[0m\u001b[0minputs\u001b[0m\u001b[0;34m)\u001b[0m\u001b[0;34m\u001b[0m\u001b[0;34m\u001b[0m\u001b[0m\n\u001b[0m\u001b[1;32m   2716\u001b[0m         \u001b[0;32melse\u001b[0m\u001b[0;34m:\u001b[0m\u001b[0;34m\u001b[0m\u001b[0;34m\u001b[0m\u001b[0m\n\u001b[1;32m   2717\u001b[0m             \u001b[0;32mif\u001b[0m \u001b[0mpy_any\u001b[0m\u001b[0;34m(\u001b[0m\u001b[0mis_tensor\u001b[0m\u001b[0;34m(\u001b[0m\u001b[0mx\u001b[0m\u001b[0;34m)\u001b[0m \u001b[0;32mfor\u001b[0m \u001b[0mx\u001b[0m \u001b[0;32min\u001b[0m \u001b[0minputs\u001b[0m\u001b[0;34m)\u001b[0m\u001b[0;34m:\u001b[0m\u001b[0;34m\u001b[0m\u001b[0;34m\u001b[0m\u001b[0m\n",
            "\u001b[0;32m/usr/local/lib/python3.6/dist-packages/keras/backend/tensorflow_backend.py\u001b[0m in \u001b[0;36m_call\u001b[0;34m(self, inputs)\u001b[0m\n\u001b[1;32m   2673\u001b[0m             \u001b[0mfetched\u001b[0m \u001b[0;34m=\u001b[0m \u001b[0mself\u001b[0m\u001b[0;34m.\u001b[0m\u001b[0m_callable_fn\u001b[0m\u001b[0;34m(\u001b[0m\u001b[0;34m*\u001b[0m\u001b[0marray_vals\u001b[0m\u001b[0;34m,\u001b[0m \u001b[0mrun_metadata\u001b[0m\u001b[0;34m=\u001b[0m\u001b[0mself\u001b[0m\u001b[0;34m.\u001b[0m\u001b[0mrun_metadata\u001b[0m\u001b[0;34m)\u001b[0m\u001b[0;34m\u001b[0m\u001b[0;34m\u001b[0m\u001b[0m\n\u001b[1;32m   2674\u001b[0m         \u001b[0;32melse\u001b[0m\u001b[0;34m:\u001b[0m\u001b[0;34m\u001b[0m\u001b[0;34m\u001b[0m\u001b[0m\n\u001b[0;32m-> 2675\u001b[0;31m             \u001b[0mfetched\u001b[0m \u001b[0;34m=\u001b[0m \u001b[0mself\u001b[0m\u001b[0;34m.\u001b[0m\u001b[0m_callable_fn\u001b[0m\u001b[0;34m(\u001b[0m\u001b[0;34m*\u001b[0m\u001b[0marray_vals\u001b[0m\u001b[0;34m)\u001b[0m\u001b[0;34m\u001b[0m\u001b[0;34m\u001b[0m\u001b[0m\n\u001b[0m\u001b[1;32m   2676\u001b[0m         \u001b[0;32mreturn\u001b[0m \u001b[0mfetched\u001b[0m\u001b[0;34m[\u001b[0m\u001b[0;34m:\u001b[0m\u001b[0mlen\u001b[0m\u001b[0;34m(\u001b[0m\u001b[0mself\u001b[0m\u001b[0;34m.\u001b[0m\u001b[0moutputs\u001b[0m\u001b[0;34m)\u001b[0m\u001b[0;34m]\u001b[0m\u001b[0;34m\u001b[0m\u001b[0;34m\u001b[0m\u001b[0m\n\u001b[1;32m   2677\u001b[0m \u001b[0;34m\u001b[0m\u001b[0m\n",
            "\u001b[0;32m/usr/local/lib/python3.6/dist-packages/tensorflow/python/client/session.py\u001b[0m in \u001b[0;36m__call__\u001b[0;34m(self, *args, **kwargs)\u001b[0m\n\u001b[1;32m   1437\u001b[0m           ret = tf_session.TF_SessionRunCallable(\n\u001b[1;32m   1438\u001b[0m               \u001b[0mself\u001b[0m\u001b[0;34m.\u001b[0m\u001b[0m_session\u001b[0m\u001b[0;34m.\u001b[0m\u001b[0m_session\u001b[0m\u001b[0;34m,\u001b[0m \u001b[0mself\u001b[0m\u001b[0;34m.\u001b[0m\u001b[0m_handle\u001b[0m\u001b[0;34m,\u001b[0m \u001b[0margs\u001b[0m\u001b[0;34m,\u001b[0m \u001b[0mstatus\u001b[0m\u001b[0;34m,\u001b[0m\u001b[0;34m\u001b[0m\u001b[0;34m\u001b[0m\u001b[0m\n\u001b[0;32m-> 1439\u001b[0;31m               run_metadata_ptr)\n\u001b[0m\u001b[1;32m   1440\u001b[0m         \u001b[0;32mif\u001b[0m \u001b[0mrun_metadata\u001b[0m\u001b[0;34m:\u001b[0m\u001b[0;34m\u001b[0m\u001b[0;34m\u001b[0m\u001b[0m\n\u001b[1;32m   1441\u001b[0m           \u001b[0mproto_data\u001b[0m \u001b[0;34m=\u001b[0m \u001b[0mtf_session\u001b[0m\u001b[0;34m.\u001b[0m\u001b[0mTF_GetBuffer\u001b[0m\u001b[0;34m(\u001b[0m\u001b[0mrun_metadata_ptr\u001b[0m\u001b[0;34m)\u001b[0m\u001b[0;34m\u001b[0m\u001b[0;34m\u001b[0m\u001b[0m\n",
            "\u001b[0;31mKeyboardInterrupt\u001b[0m: "
          ]
        }
      ]
    },
    {
      "cell_type": "code",
      "metadata": {
        "id": "iOH1gHVXzjNU",
        "colab_type": "code",
        "colab": {}
      },
      "source": [
        "model.save_weights('dense_joint_model.h5')"
      ],
      "execution_count": 0,
      "outputs": []
    },
    {
      "cell_type": "code",
      "metadata": {
        "id": "7JZmXscaRXDA",
        "colab_type": "code",
        "outputId": "462e66d6-5de5-485f-b171-a344d9b18f4e",
        "colab": {
          "base_uri": "https://localhost:8080/",
          "height": 232
        }
      },
      "source": [
        "print(history.history.keys())\n",
        "#plt.figure()\n",
        "#plt.plot(history.history['seq_metric'][1:])\n",
        "#plt.plot(history.history['val_seq_metric'][1:])\n",
        "#plt.figure()\n",
        "#plt.plot(history.history['loss'])\n",
        "#plt.plot(history.history['val_loss'])"
      ],
      "execution_count": 0,
      "outputs": [
        {
          "output_type": "error",
          "ename": "NameError",
          "evalue": "ignored",
          "traceback": [
            "\u001b[0;31m---------------------------------------------------------------------------\u001b[0m",
            "\u001b[0;31mNameError\u001b[0m                                 Traceback (most recent call last)",
            "\u001b[0;32m<ipython-input-20-9cfe0f455414>\u001b[0m in \u001b[0;36m<module>\u001b[0;34m()\u001b[0m\n\u001b[0;32m----> 1\u001b[0;31m \u001b[0mprint\u001b[0m\u001b[0;34m(\u001b[0m\u001b[0mhistory\u001b[0m\u001b[0;34m.\u001b[0m\u001b[0mhistory\u001b[0m\u001b[0;34m.\u001b[0m\u001b[0mkeys\u001b[0m\u001b[0;34m(\u001b[0m\u001b[0;34m)\u001b[0m\u001b[0;34m)\u001b[0m\u001b[0;34m\u001b[0m\u001b[0;34m\u001b[0m\u001b[0m\n\u001b[0m\u001b[1;32m      2\u001b[0m \u001b[0;31m#plt.figure()\u001b[0m\u001b[0;34m\u001b[0m\u001b[0;34m\u001b[0m\u001b[0;34m\u001b[0m\u001b[0m\n\u001b[1;32m      3\u001b[0m \u001b[0;31m#plt.plot(history.history['seq_metric'][1:])\u001b[0m\u001b[0;34m\u001b[0m\u001b[0;34m\u001b[0m\u001b[0;34m\u001b[0m\u001b[0m\n\u001b[1;32m      4\u001b[0m \u001b[0;31m#plt.plot(history.history['val_seq_metric'][1:])\u001b[0m\u001b[0;34m\u001b[0m\u001b[0;34m\u001b[0m\u001b[0;34m\u001b[0m\u001b[0m\n\u001b[1;32m      5\u001b[0m \u001b[0;31m#plt.figure()\u001b[0m\u001b[0;34m\u001b[0m\u001b[0;34m\u001b[0m\u001b[0;34m\u001b[0m\u001b[0m\n",
            "\u001b[0;31mNameError\u001b[0m: name 'history' is not defined"
          ]
        }
      ]
    },
    {
      "cell_type": "markdown",
      "metadata": {
        "id": "RIOnEtjTKCwM",
        "colab_type": "text"
      },
      "source": [
        "# Inference"
      ]
    },
    {
      "cell_type": "code",
      "metadata": {
        "id": "Jg7j2I9jYqur",
        "colab_type": "code",
        "colab": {}
      },
      "source": [
        "slots_pred = np.zeros((ltest,48,128),dtype='object')\n",
        "intent_pred = np.zeros((ltest,26),dtype='object')\n",
        "for i in range(ltest):\n",
        "  slots_pred[i],intent_pred[i] = model.predict(test_data[i].reshape(1,48,942))"
      ],
      "execution_count": 0,
      "outputs": []
    },
    {
      "cell_type": "code",
      "metadata": {
        "id": "2Scvtq__4WE7",
        "colab_type": "code",
        "colab": {}
      },
      "source": [
        "slots_pred_train = np.zeros((l,48,128),dtype='object')\n",
        "intent_pred_train = np.zeros((l,26),dtype='object')\n",
        "for i in range(l):\n",
        "  slots_pred_train[i],intent_pred_train[i] = model.predict(train_data[i].reshape(1,48,942))"
      ],
      "execution_count": 0,
      "outputs": []
    },
    {
      "cell_type": "code",
      "metadata": {
        "id": "XdGaFL60ha4w",
        "colab_type": "code",
        "outputId": "8e7f2f06-9969-4e54-8c81-d108a17b1e47",
        "colab": {
          "base_uri": "https://localhost:8080/",
          "height": 119
        }
      },
      "source": [
        "n=100\n",
        "print(np.argmax(slots_pred[n],axis=-1))\n",
        "a = np.argmax(test_out_data[n],axis=-1)\n",
        "print(a)"
      ],
      "execution_count": 0,
      "outputs": [
        {
          "output_type": "stream",
          "text": [
            "[127 127  43 127 127  47 127  77 127 127  14  11 127   0   0   0   0   0\n",
            "   0   0   0   0   0   0   0   0   0   0   0   0   0   0   0   0   0   0\n",
            "   0   0   0   0   0   0   0   0   0   0   0   0]\n",
            "[127 127  43 127 127  47 127  77 127 127  14  11 127   0   0   0   0   0\n",
            "   0   0   0   0   0   0   0   0   0   0   0   0   0   0   0   0   0   0\n",
            "   0   0   0   0   0   0   0   0   0   0   0   0]\n"
          ],
          "name": "stdout"
        }
      ]
    },
    {
      "cell_type": "code",
      "metadata": {
        "id": "qkZqppNxv_nG",
        "colab_type": "code",
        "colab": {}
      },
      "source": [
        "def accuracy(a,b):\n",
        "  summ = 0\n",
        "  for n in range(len(a)):\n",
        "    an = np.argmax(a[n],axis=-1)\n",
        "    bn = np.argmax(b[n],axis=-1)\n",
        "    summ += 1 if np.array_equal(an,bn) else 0\n",
        "  return float(summ)/len(a)"
      ],
      "execution_count": 0,
      "outputs": []
    },
    {
      "cell_type": "code",
      "metadata": {
        "id": "weznHkyi3tqw",
        "colab_type": "code",
        "outputId": "c1242867-b700-4d66-dbcc-8e9cd17c4a92",
        "colab": {
          "base_uri": "https://localhost:8080/",
          "height": 51
        }
      },
      "source": [
        "print('test_accuracy:'+str(accuracy(test_out_data,slots_pred)))\n",
        "print('train_accuracy:'+str(accuracy(train_out_data,slots_pred_train)))"
      ],
      "execution_count": 0,
      "outputs": [
        {
          "output_type": "stream",
          "text": [
            "test_accuracy:0.9416581371545547\n",
            "train_accuracy:0.936\n"
          ],
          "name": "stdout"
        }
      ]
    },
    {
      "cell_type": "code",
      "metadata": {
        "id": "A_1IMOkDM_Sp",
        "colab_type": "code",
        "colab": {}
      },
      "source": [
        "#print('test_accuracy:'+str(1-np.sum([test_intent_data-np.argmax(intent_pred,axis=-1)])/ltest))\n",
        "#print('train_accuracy:'+str(1-np.sum([np.argmax(train_intent_data,axis=-1)-np.argmax(intent_pred_train,axis=-1)])/l))"
      ],
      "execution_count": 0,
      "outputs": []
    },
    {
      "cell_type": "code",
      "metadata": {
        "id": "gZ09Fn4WVn-o",
        "colab_type": "code",
        "outputId": "e7ccfea6-2a54-4b60-dfec-73ca2a5af00c",
        "colab": {
          "base_uri": "https://localhost:8080/",
          "height": 51
        }
      },
      "source": [
        "print('test_accuracy:'+str(accuracy(test_intent_data,intent_pred)))\n",
        "print('train_accuracy:'+str(accuracy(train_intent_data,intent_pred_train)))"
      ],
      "execution_count": 0,
      "outputs": [
        {
          "output_type": "stream",
          "text": [
            "test_accuracy:0.9948822927328557\n",
            "train_accuracy:0.9935\n"
          ],
          "name": "stdout"
        }
      ]
    },
    {
      "cell_type": "code",
      "metadata": {
        "id": "lM7fFJaCM6qq",
        "colab_type": "code",
        "colab": {}
      },
      "source": [
        "#K.clear_session()"
      ],
      "execution_count": 0,
      "outputs": []
    }
  ]
}