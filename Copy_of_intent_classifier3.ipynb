{
  "nbformat": 4,
  "nbformat_minor": 0,
  "metadata": {
    "colab": {
      "name": "Copy of intent_classifier3.ipynb",
      "version": "0.3.2",
      "provenance": [],
      "collapsed_sections": [],
      "toc_visible": true,
      "include_colab_link": true
    },
    "kernelspec": {
      "name": "python3",
      "display_name": "Python 3"
    },
    "accelerator": "GPU"
  },
  "cells": [
    {
      "cell_type": "markdown",
      "metadata": {
        "id": "view-in-github",
        "colab_type": "text"
      },
      "source": [
        "<a href=\"https://colab.research.google.com/github/Z3376/Joint-Intent-Classification-and-Slot-Filling/blob/master/Copy_of_intent_classifier3.ipynb\" target=\"_parent\"><img src=\"https://colab.research.google.com/assets/colab-badge.svg\" alt=\"Open In Colab\"/></a>"
      ]
    },
    {
      "cell_type": "code",
      "metadata": {
        "id": "xbUL7gT1GLku",
        "colab_type": "code",
        "outputId": "9d708306-337c-4b35-cc7c-03a579ba70f2",
        "colab": {
          "base_uri": "https://localhost:8080/",
          "height": 122
        }
      },
      "source": [
        "from google.colab import drive\n",
        "drive.mount('/content/gdrive')"
      ],
      "execution_count": 0,
      "outputs": [
        {
          "output_type": "stream",
          "text": [
            "Go to this URL in a browser: https://accounts.google.com/o/oauth2/auth?client_id=947318989803-6bn6qk8qdgf4n4g3pfee6491hc0brc4i.apps.googleusercontent.com&redirect_uri=urn%3Aietf%3Awg%3Aoauth%3A2.0%3Aoob&scope=email%20https%3A%2F%2Fwww.googleapis.com%2Fauth%2Fdocs.test%20https%3A%2F%2Fwww.googleapis.com%2Fauth%2Fdrive%20https%3A%2F%2Fwww.googleapis.com%2Fauth%2Fdrive.photos.readonly%20https%3A%2F%2Fwww.googleapis.com%2Fauth%2Fpeopleapi.readonly&response_type=code\n",
            "\n",
            "Enter your authorization code:\n",
            "··········\n",
            "Mounted at /content/gdrive\n"
          ],
          "name": "stdout"
        }
      ]
    },
    {
      "cell_type": "code",
      "metadata": {
        "id": "K3Kd6L3vIeIt",
        "colab_type": "code",
        "outputId": "a440b53c-33c4-47d6-bb99-46989d74b990",
        "colab": {
          "base_uri": "https://localhost:8080/",
          "height": 272
        }
      },
      "source": [
        "!unzip /content/gdrive/My\\ Drive/Language_2.zip"
      ],
      "execution_count": 0,
      "outputs": [
        {
          "output_type": "stream",
          "text": [
            "Archive:  /content/gdrive/My Drive/Language_2.zip\n",
            "   creating: Language_2/\n",
            "  inflating: Language_2/.DS_Store    \n",
            "   creating: __MACOSX/\n",
            "   creating: __MACOSX/Language_2/\n",
            "  inflating: __MACOSX/Language_2/._.DS_Store  \n",
            "  inflating: Language_2/intents.csv  \n",
            "  inflating: Language_2/Round1_Problem2-of-2_Problem.pdf  \n",
            "  inflating: __MACOSX/Language_2/._Round1_Problem2-of-2_Problem.pdf  \n",
            "  inflating: Language_2/slots.csv    \n",
            "  inflating: Language_2/test.csv     \n",
            "  inflating: Language_2/train.csv    \n",
            "  inflating: Language_2/train_intent.csv  \n",
            "  inflating: Language_2/train_slots.csv  \n",
            "  inflating: Language_2/vocab.csv    \n"
          ],
          "name": "stdout"
        }
      ]
    },
    {
      "cell_type": "code",
      "metadata": {
        "id": "ltcjdCJkEbLF",
        "colab_type": "code",
        "colab": {}
      },
      "source": [
        "import numpy as np\n",
        "import matplotlib.pyplot as plt\n",
        "import pandas as pd\n",
        "from keras.models import Model\n",
        "from keras.layers import GRU\n",
        "from keras.layers import LSTM\n",
        "from keras.models import Sequential\n",
        "from keras import backend as K\n",
        "from keras.layers import Dense\n",
        "from keras.layers import Input\n",
        "from keras.layers import TimeDistributed\n",
        "from keras.layers import Bidirectional\n",
        "from keras.utils import to_categorical\n",
        "from keras.utils import plot_model\n",
        "from keras.callbacks import EarlyStopping\n",
        "from keras.callbacks import ModelCheckpoint"
      ],
      "execution_count": 0,
      "outputs": []
    },
    {
      "cell_type": "code",
      "metadata": {
        "id": "DKb6NTMcI9us",
        "colab_type": "code",
        "colab": {}
      },
      "source": [
        "train = pd.read_csv('./Language_2/train.csv')\n",
        "train = train.iloc[:].values\n",
        "test = pd.read_csv('./Language_2/test.csv')\n",
        "test = test.iloc[:].values\n",
        "train_intent = pd.read_csv('./Language_2/train_intent.csv')\n",
        "train_intent = train_intent.iloc[:].values\n",
        "intent = pd.read_csv('./Language_2/intents.csv')\n",
        "intent = intent.iloc[:].values\n",
        "vocab = pd.read_csv('./Language_2/vocab.csv')\n",
        "vocab = vocab.iloc[:].values\n",
        "train_slots = pd.read_csv('./Language_2/train_slots.csv')\n",
        "train_slots = train_slots.iloc[:].values\n",
        "slots = pd.read_csv('./Language_2/slots.csv')\n",
        "slots = slots.iloc[:].values"
      ],
      "execution_count": 0,
      "outputs": []
    },
    {
      "cell_type": "code",
      "metadata": {
        "id": "ejRPXV-Cq4Jf",
        "colab_type": "code",
        "colab": {}
      },
      "source": [
        "l = 4000\n",
        "ltest = len(train)-l"
      ],
      "execution_count": 0,
      "outputs": []
    },
    {
      "cell_type": "code",
      "metadata": {
        "id": "J4jbaucD5ASX",
        "colab_type": "code",
        "colab": {}
      },
      "source": [
        "train_data = np.zeros((l,48),dtype='int32')\n",
        "for i in range(l):\n",
        "  a = train[i][0].split()\n",
        "  train_data[i] = np.array([int(a[j])-1 if j<len(a) else 0 for j in range(48)])\n",
        "train_data = to_categorical(train_data,num_classes=942)"
      ],
      "execution_count": 0,
      "outputs": []
    },
    {
      "cell_type": "code",
      "metadata": {
        "id": "d7Sgyx5o5OoA",
        "colab_type": "code",
        "colab": {}
      },
      "source": [
        "train_out_data = np.zeros((l,48),dtype='int32')\n",
        "for i in range(l):\n",
        "  a = train_slots[i][0].split()\n",
        "  train_out_data[i] = np.array([int(a[j])-1 if j<len(a) else 0 for j in range(48)])\n",
        "train_out_data = to_categorical(train_out_data,num_classes=128)"
      ],
      "execution_count": 0,
      "outputs": []
    },
    {
      "cell_type": "code",
      "metadata": {
        "id": "liQnrpUHnuSR",
        "colab_type": "code",
        "colab": {}
      },
      "source": [
        "train_intent_data = np.array([int(train_intent[i][0]) for i in range(l)])\n",
        "train_intent_data = to_categorical(train_intent_data)"
      ],
      "execution_count": 0,
      "outputs": []
    },
    {
      "cell_type": "code",
      "metadata": {
        "id": "rxY3EY4SM2_3",
        "colab_type": "code",
        "colab": {}
      },
      "source": [
        "test_data = np.zeros((ltest,48),dtype='int32')\n",
        "for i in range(l,len(train)):\n",
        "  a = train[i-l][0].split()\n",
        "  test_data[i-l] = np.array([int(a[j])-1 if j<len(a) else 0 for j in range(48)])\n",
        "test_data = to_categorical(test_data,num_classes=942)"
      ],
      "execution_count": 0,
      "outputs": []
    },
    {
      "cell_type": "code",
      "metadata": {
        "id": "NVIlsuMexXtN",
        "colab_type": "code",
        "colab": {}
      },
      "source": [
        "test_out_data = np.zeros((ltest,48),dtype='int32')\n",
        "for i in range(l,len(train)):\n",
        "  a = train_slots[i-l][0].split()\n",
        "  test_out_data[i-l] = np.array([int(a[j])-1 if j<len(a) else 0 for j in range(48)])\n",
        "test_out_data = to_categorical(test_out_data,num_classes=128)"
      ],
      "execution_count": 0,
      "outputs": []
    },
    {
      "cell_type": "code",
      "metadata": {
        "id": "Sa5sx_n7E0Bv",
        "colab_type": "code",
        "colab": {}
      },
      "source": [
        "test_intent_data = np.array([int(train_intent[i-l][0]) for i in range(l,len(train))])\n",
        "test_intent_data = to_categorical(test_intent_data)"
      ],
      "execution_count": 0,
      "outputs": []
    },
    {
      "cell_type": "markdown",
      "metadata": {
        "id": "WDYLwWZ4_jIU",
        "colab_type": "text"
      },
      "source": [
        "# RNNs"
      ]
    },
    {
      "cell_type": "code",
      "metadata": {
        "id": "lkjmlrtcwDX3",
        "colab_type": "code",
        "colab": {}
      },
      "source": [
        "gru_units = 200"
      ],
      "execution_count": 0,
      "outputs": []
    },
    {
      "cell_type": "code",
      "metadata": {
        "id": "vKKA3B8L3zTI",
        "colab_type": "code",
        "outputId": "06aeba46-82e0-4e6c-d28d-ea519ef5d2d8",
        "colab": {
          "base_uri": "https://localhost:8080/",
          "height": 309
        }
      },
      "source": [
        "inpt = Input((None,942))\n",
        "gru = GRU(gru_units,return_sequences=True)\n",
        "gru_outpt = gru(inpt)\n",
        "outpt = TimeDistributed(Dense(128,activation='softmax'))(gru_outpt)\n",
        "slot_model = Model(inpt,outpt)\n",
        "slot_model.summary()"
      ],
      "execution_count": 0,
      "outputs": [
        {
          "output_type": "stream",
          "text": [
            "WARNING:tensorflow:From /usr/local/lib/python3.6/dist-packages/tensorflow/python/framework/op_def_library.py:263: colocate_with (from tensorflow.python.framework.ops) is deprecated and will be removed in a future version.\n",
            "Instructions for updating:\n",
            "Colocations handled automatically by placer.\n",
            "_________________________________________________________________\n",
            "Layer (type)                 Output Shape              Param #   \n",
            "=================================================================\n",
            "input_1 (InputLayer)         (None, None, 942)         0         \n",
            "_________________________________________________________________\n",
            "gru_1 (GRU)                  (None, None, 200)         685800    \n",
            "_________________________________________________________________\n",
            "time_distributed_1 (TimeDist (None, None, 128)         25728     \n",
            "=================================================================\n",
            "Total params: 711,528\n",
            "Trainable params: 711,528\n",
            "Non-trainable params: 0\n",
            "_________________________________________________________________\n"
          ],
          "name": "stdout"
        }
      ]
    },
    {
      "cell_type": "code",
      "metadata": {
        "id": "oMGyyYZgxKmn",
        "colab_type": "code",
        "outputId": "e1c7a387-b911-405e-88ec-8ec7136a8405",
        "colab": {
          "base_uri": "https://localhost:8080/",
          "height": 204
        }
      },
      "source": [
        "encoder_inpt = Input((None,942))\n",
        "encoderGRU = GRU(gru_units,return_sequences=True,return_state=True)\n",
        "_,h_state = encoderGRU(encoder_inpt)\n",
        "encoder = Model(encoder_inpt,h_state)\n",
        "encoder.summary()"
      ],
      "execution_count": 0,
      "outputs": [
        {
          "output_type": "stream",
          "text": [
            "_________________________________________________________________\n",
            "Layer (type)                 Output Shape              Param #   \n",
            "=================================================================\n",
            "input_2 (InputLayer)         (None, None, 942)         0         \n",
            "_________________________________________________________________\n",
            "gru_2 (GRU)                  [(None, None, 200), (None 685800    \n",
            "=================================================================\n",
            "Total params: 685,800\n",
            "Trainable params: 685,800\n",
            "Non-trainable params: 0\n",
            "_________________________________________________________________\n"
          ],
          "name": "stdout"
        }
      ]
    },
    {
      "cell_type": "code",
      "metadata": {
        "id": "TCRvtgiLx-Yk",
        "colab_type": "code",
        "outputId": "68b58ec3-6434-4be1-801f-74fbaceb0dcf",
        "colab": {
          "base_uri": "https://localhost:8080/",
          "height": 343
        }
      },
      "source": [
        "decoder_inpt = Input((None,942))\n",
        "decoderGRU = GRU(gru_units)\n",
        "decoderGRU_outpt = decoderGRU(decoder_inpt,initial_state=h_state)\n",
        "intent_outpt = Dense(26,activation='softmax')(decoderGRU_outpt)\n",
        "intent_model = Model([decoder_inpt,encoder_inpt],intent_outpt)\n",
        "intent_model.summary()\n"
      ],
      "execution_count": 0,
      "outputs": [
        {
          "output_type": "stream",
          "text": [
            "__________________________________________________________________________________________________\n",
            "Layer (type)                    Output Shape         Param #     Connected to                     \n",
            "==================================================================================================\n",
            "input_2 (InputLayer)            (None, None, 942)    0                                            \n",
            "__________________________________________________________________________________________________\n",
            "input_3 (InputLayer)            (None, None, 942)    0                                            \n",
            "__________________________________________________________________________________________________\n",
            "gru_2 (GRU)                     [(None, None, 200),  685800      input_2[0][0]                    \n",
            "__________________________________________________________________________________________________\n",
            "gru_3 (GRU)                     (None, 200)          685800      input_3[0][0]                    \n",
            "                                                                 gru_2[0][1]                      \n",
            "__________________________________________________________________________________________________\n",
            "dense_2 (Dense)                 (None, 26)           5226        gru_3[0][0]                      \n",
            "==================================================================================================\n",
            "Total params: 1,376,826\n",
            "Trainable params: 1,376,826\n",
            "Non-trainable params: 0\n",
            "__________________________________________________________________________________________________\n"
          ],
          "name": "stdout"
        }
      ]
    },
    {
      "cell_type": "code",
      "metadata": {
        "id": "ibaKc3TEADYN",
        "colab_type": "code",
        "colab": {}
      },
      "source": [
        "plot_model(intent_model, to_file='intent_model.png')\n",
        "plot_model(slot_model, to_file='slot_model.png')"
      ],
      "execution_count": 0,
      "outputs": []
    },
    {
      "cell_type": "markdown",
      "metadata": {
        "id": "JuoI_aU0J7y1",
        "colab_type": "text"
      },
      "source": [
        "# Train"
      ]
    },
    {
      "cell_type": "code",
      "metadata": {
        "id": "8qyHmeoYEFTQ",
        "colab_type": "code",
        "colab": {}
      },
      "source": [
        "def seq_loss_fn(s):\n",
        "  def seq(y_true,y_pred):\n",
        "    y_mul = np.zeros((s,1))\n",
        "    for i in range(s):\n",
        "      y_mul[i] = i\n",
        "    y_mul = K.cast(y_mul,K.floatx())\n",
        "    y_true = K.dot(y_true,y_mul)\n",
        "    y_pred = K.dot(y_pred,y_mul)\n",
        "    return K.mean(K.square(y_true-y_pred))\n",
        "  return seq\n",
        "seq_loss128 = seq_loss_fn(128)\n",
        "seq_loss26 = seq_loss_fn(26)"
      ],
      "execution_count": 0,
      "outputs": []
    },
    {
      "cell_type": "code",
      "metadata": {
        "id": "ECogANJnWEJF",
        "colab_type": "code",
        "colab": {}
      },
      "source": [
        "def seq_metric_fn(s):\n",
        "  def seq_metric(y_true,y_pred):\n",
        "    y_mul = np.zeros((s,1))\n",
        "    for i in range(s):\n",
        "      y_mul[i] = i\n",
        "    y_mul = K.cast(y_mul,K.floatx())\n",
        "    y_true = K.dot(y_true,y_mul)\n",
        "    y_pred = K.dot(y_pred,y_mul)\n",
        "    return K.mean(K.square(y_true-y_pred))\n",
        "  return seq_metric\n",
        "seq_metric128 = seq_metric_fn(128)\n",
        "seq_metric26 = seq_metric_fn(26)"
      ],
      "execution_count": 0,
      "outputs": []
    },
    {
      "cell_type": "code",
      "metadata": {
        "id": "MCKzM8r4SS-c",
        "colab_type": "code",
        "colab": {}
      },
      "source": [
        "print(np.argmax(train_data,axis=-1)[:5])\n",
        "print(np.argmax(train_out_data,axis=-1)[:5])\n",
        "print(np.argmax(train_intent_data,axis=-1)[:5])"
      ],
      "execution_count": 0,
      "outputs": []
    },
    {
      "cell_type": "code",
      "metadata": {
        "id": "vu6ZCcUjV1Y_",
        "colab_type": "code",
        "colab": {}
      },
      "source": [
        "slot_model.compile(optimizer='adam',loss='categorical_crossentropy',metrics=['acc',seq_metric128])\n",
        "intent_model.compile(optimizer='adam',loss='categorical_crossentropy',metrics=['acc',seq_metric26])"
      ],
      "execution_count": 0,
      "outputs": []
    },
    {
      "cell_type": "code",
      "metadata": {
        "id": "n5UbGVEq077w",
        "colab_type": "code",
        "colab": {}
      },
      "source": [
        "es = EarlyStopping(monitor='val_seq_metric', mode='min', verbose=1,patience=2)\n",
        "cp = ModelCheckpoint(filepath='./gdrive/My Drive/Colab Notebooks/slot_weights.hdf5',monitor='val_seq_metric',mode='min', verbose=1,save_weights_only=True, save_best_only=True)"
      ],
      "execution_count": 0,
      "outputs": []
    },
    {
      "cell_type": "code",
      "metadata": {
        "id": "i6VIizZ3WIUw",
        "colab_type": "code",
        "outputId": "570985e4-e3cb-4d30-9827-d662b96338ca",
        "colab": {
          "base_uri": "https://localhost:8080/",
          "height": 666
        }
      },
      "source": [
        "history1 = slot_model.fit(train_data,train_out_data,epochs=10,batch_size=1,validation_split=0.05,callbacks=[es,cp])"
      ],
      "execution_count": 0,
      "outputs": [
        {
          "output_type": "stream",
          "text": [
            "WARNING:tensorflow:From /usr/local/lib/python3.6/dist-packages/tensorflow/python/ops/math_ops.py:3066: to_int32 (from tensorflow.python.ops.math_ops) is deprecated and will be removed in a future version.\n",
            "Instructions for updating:\n",
            "Use tf.cast instead.\n",
            "Train on 3800 samples, validate on 200 samples\n",
            "Epoch 1/10\n",
            "3800/3800 [==============================] - 176s 46ms/step - loss: 0.1529 - acc: 0.9721 - seq_metric: 111.6955 - val_loss: 0.0371 - val_acc: 0.9914 - val_seq_metric: 15.3108\n",
            "\n",
            "Epoch 00001: val_seq_metric improved from inf to 15.31083, saving model to ./gdrive/My Drive/Colab Notebooks/slot_weights.hdf5\n",
            "Epoch 2/10\n",
            "3800/3800 [==============================] - 176s 46ms/step - loss: 0.0249 - acc: 0.9941 - seq_metric: 11.6444 - val_loss: 0.0203 - val_acc: 0.9945 - val_seq_metric: 7.6016\n",
            "\n",
            "Epoch 00002: val_seq_metric improved from 15.31083 to 7.60159, saving model to ./gdrive/My Drive/Colab Notebooks/slot_weights.hdf5\n",
            "Epoch 3/10\n",
            "3800/3800 [==============================] - 175s 46ms/step - loss: 0.0138 - acc: 0.9966 - seq_metric: 6.7250 - val_loss: 0.0186 - val_acc: 0.9957 - val_seq_metric: 7.7767\n",
            "\n",
            "Epoch 00003: val_seq_metric did not improve from 7.60159\n",
            "Epoch 4/10\n",
            "3800/3800 [==============================] - 174s 46ms/step - loss: 0.0088 - acc: 0.9976 - seq_metric: 4.9496 - val_loss: 0.0188 - val_acc: 0.9956 - val_seq_metric: 7.2489\n",
            "\n",
            "Epoch 00004: val_seq_metric improved from 7.60159 to 7.24894, saving model to ./gdrive/My Drive/Colab Notebooks/slot_weights.hdf5\n",
            "Epoch 5/10\n",
            "3800/3800 [==============================] - 177s 46ms/step - loss: 0.0063 - acc: 0.9983 - seq_metric: 3.3602 - val_loss: 0.0200 - val_acc: 0.9949 - val_seq_metric: 7.6559\n",
            "\n",
            "Epoch 00005: val_seq_metric did not improve from 7.24894\n",
            "Epoch 6/10\n",
            "3800/3800 [==============================] - 175s 46ms/step - loss: 0.0050 - acc: 0.9986 - seq_metric: 2.8893 - val_loss: 0.0187 - val_acc: 0.9954 - val_seq_metric: 6.9184\n",
            "\n",
            "Epoch 00006: val_seq_metric improved from 7.24894 to 6.91843, saving model to ./gdrive/My Drive/Colab Notebooks/slot_weights.hdf5\n",
            "Epoch 7/10\n",
            "3800/3800 [==============================] - 175s 46ms/step - loss: 0.0039 - acc: 0.9989 - seq_metric: 2.2171 - val_loss: 0.0182 - val_acc: 0.9960 - val_seq_metric: 7.0916\n",
            "\n",
            "Epoch 00007: val_seq_metric did not improve from 6.91843\n",
            "Epoch 8/10\n",
            "3800/3800 [==============================] - 177s 46ms/step - loss: 0.0035 - acc: 0.9990 - seq_metric: 1.9459 - val_loss: 0.0227 - val_acc: 0.9955 - val_seq_metric: 8.0008\n",
            "\n",
            "Epoch 00008: val_seq_metric did not improve from 6.91843\n",
            "Epoch 00008: early stopping\n"
          ],
          "name": "stdout"
        }
      ]
    },
    {
      "cell_type": "code",
      "metadata": {
        "id": "iOH1gHVXzjNU",
        "colab_type": "code",
        "colab": {}
      },
      "source": [
        "slot_model.save_weights('slot_model2.h5')"
      ],
      "execution_count": 0,
      "outputs": []
    },
    {
      "cell_type": "code",
      "metadata": {
        "id": "hGER-W9DVBBY",
        "colab_type": "code",
        "colab": {}
      },
      "source": [
        "es = EarlyStopping(monitor='val_loss', mode='min', verbose=1, patience=2)\n",
        "cp = ModelCheckpoint(filepath='./gdrive/My Drive/Colab Notebooks/intent_weights.hdf5',monitor='val_loss',mode='min', verbose=1,save_weights_only=True, save_best_only=True)"
      ],
      "execution_count": 0,
      "outputs": []
    },
    {
      "cell_type": "code",
      "metadata": {
        "id": "ZUlHjWdp1bEA",
        "colab_type": "code",
        "outputId": "f68056f4-9ba2-45e7-9c5f-bd785eb145be",
        "colab": {
          "base_uri": "https://localhost:8080/",
          "height": 615
        }
      },
      "source": [
        "history = intent_model.fit([train_data,train_data],train_intent_data,epochs=10,batch_size=1,validation_split=0.05,callbacks=[es,cp])"
      ],
      "execution_count": 0,
      "outputs": [
        {
          "output_type": "stream",
          "text": [
            "Train on 3800 samples, validate on 200 samples\n",
            "Epoch 1/10\n",
            "3800/3800 [==============================] - 603s 159ms/step - loss: 0.2471 - acc: 0.9363 - seq_metric: 5.8127 - val_loss: 0.1828 - val_acc: 0.9700 - val_seq_metric: 1.9192\n",
            "\n",
            "Epoch 00001: val_loss improved from inf to 0.18279, saving model to ./gdrive/My Drive/Colab Notebooks/intent_weights.hdf5\n",
            "Epoch 2/10\n",
            "3800/3800 [==============================] - 599s 158ms/step - loss: 0.1345 - acc: 0.9647 - seq_metric: 2.7425 - val_loss: 0.1643 - val_acc: 0.9700 - val_seq_metric: 1.9458\n",
            "\n",
            "Epoch 00002: val_loss improved from 0.18279 to 0.16427, saving model to ./gdrive/My Drive/Colab Notebooks/intent_weights.hdf5\n",
            "Epoch 3/10\n",
            "3800/3800 [==============================] - 599s 158ms/step - loss: 0.0852 - acc: 0.9792 - seq_metric: 1.6708 - val_loss: 0.1353 - val_acc: 0.9750 - val_seq_metric: 1.3927\n",
            "\n",
            "Epoch 00003: val_loss improved from 0.16427 to 0.13530, saving model to ./gdrive/My Drive/Colab Notebooks/intent_weights.hdf5\n",
            "Epoch 4/10\n",
            "3800/3800 [==============================] - 386s 102ms/step - loss: 0.0592 - acc: 0.9853 - seq_metric: 1.1052 - val_loss: 0.1250 - val_acc: 0.9850 - val_seq_metric: 1.8556\n",
            "\n",
            "Epoch 00004: val_loss improved from 0.13530 to 0.12504, saving model to ./gdrive/My Drive/Colab Notebooks/intent_weights.hdf5\n",
            "Epoch 5/10\n",
            "3800/3800 [==============================] - 380s 100ms/step - loss: 0.0365 - acc: 0.9895 - seq_metric: 0.5982 - val_loss: 0.1506 - val_acc: 0.9800 - val_seq_metric: 2.0257\n",
            "\n",
            "Epoch 00005: val_loss did not improve from 0.12504\n",
            "Epoch 6/10\n",
            "3800/3800 [==============================] - 443s 116ms/step - loss: 0.0348 - acc: 0.9918 - seq_metric: 0.6917 - val_loss: 0.0999 - val_acc: 0.9850 - val_seq_metric: 1.0821\n",
            "\n",
            "Epoch 00006: val_loss improved from 0.12504 to 0.09994, saving model to ./gdrive/My Drive/Colab Notebooks/intent_weights.hdf5\n",
            "Epoch 7/10\n",
            "3800/3800 [==============================] - 609s 160ms/step - loss: 0.0287 - acc: 0.9929 - seq_metric: 0.5713 - val_loss: 0.1696 - val_acc: 0.9850 - val_seq_metric: 1.2640\n",
            "\n",
            "Epoch 00007: val_loss did not improve from 0.09994\n",
            "Epoch 8/10\n",
            "3800/3800 [==============================] - 626s 165ms/step - loss: 0.0207 - acc: 0.9955 - seq_metric: 0.4867 - val_loss: 0.1080 - val_acc: 0.9900 - val_seq_metric: 1.6607\n",
            "\n",
            "Epoch 00008: val_loss did not improve from 0.09994\n",
            "Epoch 00008: early stopping\n"
          ],
          "name": "stdout"
        }
      ]
    },
    {
      "cell_type": "code",
      "metadata": {
        "id": "uhkw1_MC8c-J",
        "colab_type": "code",
        "colab": {}
      },
      "source": [
        "intent_model.save_weights('intent_model2.h5')"
      ],
      "execution_count": 0,
      "outputs": []
    },
    {
      "cell_type": "code",
      "metadata": {
        "id": "7JZmXscaRXDA",
        "colab_type": "code",
        "outputId": "cc6dc7c2-9094-483e-c269-df548ee47ea8",
        "colab": {
          "base_uri": "https://localhost:8080/",
          "height": 538
        }
      },
      "source": [
        "plt.figure()\n",
        "plt.plot(history1.history['seq_metric'][1:])\n",
        "plt.plot(history1.history['val_seq_metric'][1:])\n",
        "plt.figure()\n",
        "plt.plot(history.history['loss'])\n",
        "plt.plot(history.history['val_loss'])"
      ],
      "execution_count": 0,
      "outputs": [
        {
          "output_type": "execute_result",
          "data": {
            "text/plain": [
              "[<matplotlib.lines.Line2D at 0x7f40a0355240>]"
            ]
          },
          "metadata": {
            "tags": []
          },
          "execution_count": 24
        },
        {
          "output_type": "display_data",
          "data": {
            "image/png": "[encoded data removed]",
            "text/plain": [
              "<Figure size 432x288 with 1 Axes>"
            ]
          },
          "metadata": {
            "tags": []
          }
        },
        {
          "output_type": "display_data",
          "data": {
            "image/png": "[encoded data removed]",
            "text/plain": [
              "<Figure size 432x288 with 1 Axes>"
            ]
          },
          "metadata": {
            "tags": []
          }
        }
      ]
    },
    {
      "cell_type": "markdown",
      "metadata": {
        "id": "RIOnEtjTKCwM",
        "colab_type": "text"
      },
      "source": [
        "# Inference"
      ]
    },
    {
      "cell_type": "code",
      "metadata": {
        "id": "Jg7j2I9jYqur",
        "colab_type": "code",
        "colab": {}
      },
      "source": [
        "slots_pred = np.zeros((ltest,48,128),dtype='object')\n",
        "for i in range(ltest):\n",
        "  slots_pred[i] = slot_model.predict(test_data[i].reshape(1,48,942))"
      ],
      "execution_count": 0,
      "outputs": []
    },
    {
      "cell_type": "code",
      "metadata": {
        "id": "2Scvtq__4WE7",
        "colab_type": "code",
        "colab": {}
      },
      "source": [
        "slots_pred_train = np.zeros((l,48,128),dtype='object')\n",
        "for i in range(l):\n",
        "  slots_pred_train[i] = slot_model.predict(train_data[i].reshape(1,48,942))"
      ],
      "execution_count": 0,
      "outputs": []
    },
    {
      "cell_type": "code",
      "metadata": {
        "id": "XdGaFL60ha4w",
        "colab_type": "code",
        "outputId": "7a1daefe-005d-466c-eb52-e9d384a743a6",
        "colab": {
          "base_uri": "https://localhost:8080/",
          "height": 119
        }
      },
      "source": [
        "n=10\n",
        "print(np.argmax(slots_pred[n],axis=-1))\n",
        "print(np.argmax(test_out_data[n],axis=-1))"
      ],
      "execution_count": 0,
      "outputs": [
        {
          "output_type": "stream",
          "text": [
            "[127 127 127 127 127 127  47 109 127  77 127 127 127  70 127   0   0   0\n",
            "   0   0   0   0   0   0   0   0   0   0   0   0   0   0   0   0   0   0\n",
            "   0   0   0   0   0   0   0   0   0   0   0   0]\n",
            "[127 127 127 127 127 127  47 109 127  77 127 127 127  70 127   0   0   0\n",
            "   0   0   0   0   0   0   0   0   0   0   0   0   0   0   0   0   0   0\n",
            "   0   0   0   0   0   0   0   0   0   0   0   0]\n"
          ],
          "name": "stdout"
        }
      ]
    },
    {
      "cell_type": "code",
      "metadata": {
        "id": "qkZqppNxv_nG",
        "colab_type": "code",
        "colab": {}
      },
      "source": [
        "def accuracy(a,b):\n",
        "  summ = 0\n",
        "  for n in range(len(a)):\n",
        "    an = np.argmax(a[n],axis=-1)\n",
        "    bn = np.argmax(b[n],axis=-1)\n",
        "    summ += (1 if np.array_equal(an,bn) else 0)\n",
        "  return float(summ)/len(a)"
      ],
      "execution_count": 0,
      "outputs": []
    },
    {
      "cell_type": "code",
      "metadata": {
        "id": "weznHkyi3tqw",
        "colab_type": "code",
        "outputId": "38a90e2c-144f-4a87-c197-129413ddb90a",
        "colab": {
          "base_uri": "https://localhost:8080/",
          "height": 51
        }
      },
      "source": [
        "print('test_accuracy:'+str(accuracy(test_out_data,slots_pred)))\n",
        "print('train_accuracy:'+str(accuracy(train_out_data,slots_pred_train)))"
      ],
      "execution_count": 0,
      "outputs": [
        {
          "output_type": "stream",
          "text": [
            "test_accuracy:0.970317297850563\n",
            "train_accuracy:0.9675\n"
          ],
          "name": "stdout"
        }
      ]
    },
    {
      "cell_type": "code",
      "metadata": {
        "id": "4NalV9AAK88o",
        "colab_type": "code",
        "colab": {}
      },
      "source": [
        "intent_pred = np.zeros((ltest,26),dtype='object')\n",
        "for i in range(ltest):\n",
        "  a = test_data[i].reshape(1,48,942)\n",
        "  intent_pred[i] = intent_model.predict([a,a])"
      ],
      "execution_count": 0,
      "outputs": []
    },
    {
      "cell_type": "code",
      "metadata": {
        "id": "vC4qHa-cO45R",
        "colab_type": "code",
        "colab": {}
      },
      "source": [
        "intent_pred_train = np.zeros((l,26),dtype='object')\n",
        "for i in range(l):\n",
        "  a = train_data[i].reshape(1,48,942)\n",
        "  intent_pred_train[i] = intent_model.predict([a,a])"
      ],
      "execution_count": 0,
      "outputs": []
    },
    {
      "cell_type": "code",
      "metadata": {
        "id": "A_1IMOkDM_Sp",
        "colab_type": "code",
        "colab": {}
      },
      "source": [
        "#print('test_accuracy:'+str(1-np.sum([test_intent_data-np.argmax(intent_pred,axis=-1)])/ltest))\n",
        "#print('train_accuracy:'+str(1-np.sum([np.argmax(train_intent_data,axis=-1)-np.argmax(intent_pred_train,axis=-1)])/l))"
      ],
      "execution_count": 0,
      "outputs": []
    },
    {
      "cell_type": "code",
      "metadata": {
        "id": "_UQsvxNDuYwe",
        "colab_type": "code",
        "outputId": "4db21d5c-b26b-4b58-8b6e-3044efad68ff",
        "colab": {
          "base_uri": "https://localhost:8080/",
          "height": 51
        }
      },
      "source": [
        "n=350\n",
        "print(np.argmax(test_intent_data[n],axis=-1))\n",
        "print(np.argmax(intent_pred[n],axis=-1))"
      ],
      "execution_count": 0,
      "outputs": [
        {
          "output_type": "stream",
          "text": [
            "6\n",
            "6\n"
          ],
          "name": "stdout"
        }
      ]
    },
    {
      "cell_type": "code",
      "metadata": {
        "id": "Tt176BHkuKuI",
        "colab_type": "code",
        "outputId": "5397fbfe-7328-497f-c08a-a34038020625",
        "colab": {
          "base_uri": "https://localhost:8080/",
          "height": 51
        }
      },
      "source": [
        "print('test_accuracy:'+str(accuracy(test_intent_data,intent_pred)))\n",
        "print('train_accuracy:'+str(accuracy(train_intent_data,intent_pred_train)))"
      ],
      "execution_count": 0,
      "outputs": [
        {
          "output_type": "stream",
          "text": [
            "test_accuracy:0.9989764585465711\n",
            "train_accuracy:0.99725\n"
          ],
          "name": "stdout"
        }
      ]
    },
    {
      "cell_type": "code",
      "metadata": {
        "id": "lM7fFJaCM6qq",
        "colab_type": "code",
        "colab": {}
      },
      "source": [
        "#K.clear_session()"
      ],
      "execution_count": 0,
      "outputs": []
    }
  ]
}