{
  "nbformat": 4,
  "nbformat_minor": 0,
  "metadata": {
    "colab": {
      "name": "joint_intent_classifier3.ipynb",
      "version": "0.3.2",
      "provenance": [],
      "collapsed_sections": [],
      "toc_visible": true,
      "include_colab_link": true
    },
    "kernelspec": {
      "name": "python3",
      "display_name": "Python 3"
    },
    "accelerator": "GPU"
  },
  "cells": [
    {
      "cell_type": "markdown",
      "metadata": {
        "id": "view-in-github",
        "colab_type": "text"
      },
      "source": [
        "<a href=\"https://colab.research.google.com/github/Z3376/Joint-Intent-Classification-and-Slot-Filling/blob/master/joint_intent_classifier3.ipynb\" target=\"_parent\"><img src=\"https://colab.research.google.com/assets/colab-badge.svg\" alt=\"Open In Colab\"/></a>"
      ]
    },
    {
      "cell_type": "code",
      "metadata": {
        "id": "xbUL7gT1GLku",
        "colab_type": "code",
        "outputId": "9d708306-337c-4b35-cc7c-03a579ba70f2",
        "colab": {
          "base_uri": "https://localhost:8080/",
          "height": 122
        }
      },
      "source": [
        "from google.colab import drive\n",
        "drive.mount('/content/gdrive')"
      ],
      "execution_count": 0,
      "outputs": [
        {
          "output_type": "stream",
          "text": [
            "Go to this URL in a browser: https://accounts.google.com/o/oauth2/auth?client_id=947318989803-6bn6qk8qdgf4n4g3pfee6491hc0brc4i.apps.googleusercontent.com&redirect_uri=urn%3Aietf%3Awg%3Aoauth%3A2.0%3Aoob&scope=email%20https%3A%2F%2Fwww.googleapis.com%2Fauth%2Fdocs.test%20https%3A%2F%2Fwww.googleapis.com%2Fauth%2Fdrive%20https%3A%2F%2Fwww.googleapis.com%2Fauth%2Fdrive.photos.readonly%20https%3A%2F%2Fwww.googleapis.com%2Fauth%2Fpeopleapi.readonly&response_type=code\n",
            "\n",
            "Enter your authorization code:\n",
            "··········\n",
            "Mounted at /content/gdrive\n"
          ],
          "name": "stdout"
        }
      ]
    },
    {
      "cell_type": "code",
      "metadata": {
        "id": "K3Kd6L3vIeIt",
        "colab_type": "code",
        "outputId": "a440b53c-33c4-47d6-bb99-46989d74b990",
        "colab": {
          "base_uri": "https://localhost:8080/",
          "height": 272
        }
      },
      "source": [
        "!unzip /content/gdrive/My\\ Drive/Language_2.zip"
      ],
      "execution_count": 0,
      "outputs": [
        {
          "output_type": "stream",
          "text": [
            "Archive:  /content/gdrive/My Drive/Language_2.zip\n",
            "   creating: Language_2/\n",
            "  inflating: Language_2/.DS_Store    \n",
            "   creating: __MACOSX/\n",
            "   creating: __MACOSX/Language_2/\n",
            "  inflating: __MACOSX/Language_2/._.DS_Store  \n",
            "  inflating: Language_2/intents.csv  \n",
            "  inflating: Language_2/Round1_Problem2-of-2_Problem.pdf  \n",
            "  inflating: __MACOSX/Language_2/._Round1_Problem2-of-2_Problem.pdf  \n",
            "  inflating: Language_2/slots.csv    \n",
            "  inflating: Language_2/test.csv     \n",
            "  inflating: Language_2/train.csv    \n",
            "  inflating: Language_2/train_intent.csv  \n",
            "  inflating: Language_2/train_slots.csv  \n",
            "  inflating: Language_2/vocab.csv    \n"
          ],
          "name": "stdout"
        }
      ]
    },
    {
      "cell_type": "code",
      "metadata": {
        "id": "ltcjdCJkEbLF",
        "colab_type": "code",
        "outputId": "90749fa9-abea-453a-9909-01d805b0467a",
        "colab": {
          "base_uri": "https://localhost:8080/",
          "height": 34
        }
      },
      "source": [
        "import numpy as np\n",
        "import matplotlib.pyplot as plt\n",
        "import pandas as pd\n",
        "from keras.layers import GRU\n",
        "from keras.layers import LSTM\n",
        "from keras.models import Model\n",
        "from keras import backend as K\n",
        "from keras.layers import Dense\n",
        "from keras.layers import Input\n",
        "from keras.layers import TimeDistributed\n",
        "from keras.layers import Bidirectional\n",
        "from keras.layers import RepeatVector\n",
        "from keras.utils import to_categorical\n",
        "from keras.utils import plot_model\n",
        "from keras.callbacks import EarlyStopping\n",
        "from keras.callbacks import ModelCheckpoint"
      ],
      "execution_count": 0,
      "outputs": [
        {
          "output_type": "stream",
          "text": [
            "Using TensorFlow backend.\n"
          ],
          "name": "stderr"
        }
      ]
    },
    {
      "cell_type": "markdown",
      "metadata": {
        "id": "jh1xizxwfKHl",
        "colab_type": "text"
      },
      "source": [
        "# Data"
      ]
    },
    {
      "cell_type": "code",
      "metadata": {
        "id": "DKb6NTMcI9us",
        "colab_type": "code",
        "colab": {}
      },
      "source": [
        "train = pd.read_csv('./Language_2/train.csv')\n",
        "train = train.iloc[:].values\n",
        "test = pd.read_csv('./Language_2/test.csv')\n",
        "test = test.iloc[:].values\n",
        "train_intent = pd.read_csv('./Language_2/train_intent.csv')\n",
        "train_intent = train_intent.iloc[:].values\n",
        "intent = pd.read_csv('./Language_2/intents.csv')\n",
        "intent = intent.iloc[:].values\n",
        "vocab = pd.read_csv('./Language_2/vocab.csv')\n",
        "vocab = vocab.iloc[:].values\n",
        "train_slots = pd.read_csv('./Language_2/train_slots.csv')\n",
        "train_slots = train_slots.iloc[:].values\n",
        "slots = pd.read_csv('./Language_2/slots.csv')\n",
        "slots = slots.iloc[:].values"
      ],
      "execution_count": 0,
      "outputs": []
    },
    {
      "cell_type": "code",
      "metadata": {
        "id": "ejRPXV-Cq4Jf",
        "colab_type": "code",
        "colab": {}
      },
      "source": [
        "l = 4000\n",
        "ltest = len(train)-l"
      ],
      "execution_count": 0,
      "outputs": []
    },
    {
      "cell_type": "code",
      "metadata": {
        "id": "J4jbaucD5ASX",
        "colab_type": "code",
        "colab": {}
      },
      "source": [
        "train_data = np.zeros((l,48),dtype='int32')\n",
        "for i in range(l):\n",
        "  a = train[i][0].split()\n",
        "  train_data[i] = np.array([int(a[j])-1 if j<len(a) else 0 for j in range(48)])\n",
        "train_data = to_categorical(train_data,num_classes=942)"
      ],
      "execution_count": 0,
      "outputs": []
    },
    {
      "cell_type": "code",
      "metadata": {
        "id": "d7Sgyx5o5OoA",
        "colab_type": "code",
        "colab": {}
      },
      "source": [
        "train_out_data = np.zeros((l,48),dtype='int32')\n",
        "for i in range(l):\n",
        "  a = train_slots[i][0].split()\n",
        "  train_out_data[i] = np.array([int(a[j])-1 if j<len(a) else 0 for j in range(48)])\n",
        "train_out_data = to_categorical(train_out_data,num_classes=128)"
      ],
      "execution_count": 0,
      "outputs": []
    },
    {
      "cell_type": "code",
      "metadata": {
        "id": "liQnrpUHnuSR",
        "colab_type": "code",
        "colab": {}
      },
      "source": [
        "train_intent_data = np.array([int(train_intent[i][0]) for i in range(l)])\n",
        "train_intent_data = to_categorical(train_intent_data)"
      ],
      "execution_count": 0,
      "outputs": []
    },
    {
      "cell_type": "code",
      "metadata": {
        "id": "rxY3EY4SM2_3",
        "colab_type": "code",
        "colab": {}
      },
      "source": [
        "test_data = np.zeros((ltest,48),dtype='int32')\n",
        "for i in range(l,len(train)):\n",
        "  a = train[i-l][0].split()\n",
        "  test_data[i-l] = np.array([int(a[j])-1 if j<len(a) else 0 for j in range(48)])\n",
        "test_data = to_categorical(test_data,num_classes=942)"
      ],
      "execution_count": 0,
      "outputs": []
    },
    {
      "cell_type": "code",
      "metadata": {
        "id": "NVIlsuMexXtN",
        "colab_type": "code",
        "colab": {}
      },
      "source": [
        "test_out_data = np.zeros((ltest,48),dtype='int32')\n",
        "for i in range(l,len(train)):\n",
        "  a = train_slots[i-l][0].split()\n",
        "  test_out_data[i-l] = np.array([int(a[j])-1 if j<len(a) else 0 for j in range(48)])\n",
        "test_out_data = to_categorical(test_out_data,num_classes=128)"
      ],
      "execution_count": 0,
      "outputs": []
    },
    {
      "cell_type": "code",
      "metadata": {
        "id": "Sa5sx_n7E0Bv",
        "colab_type": "code",
        "colab": {}
      },
      "source": [
        "test_intent_data = np.array([int(train_intent[i-l][0]) for i in range(l,len(train))])\n",
        "test_intent_data = to_categorical(test_intent_data)"
      ],
      "execution_count": 0,
      "outputs": []
    },
    {
      "cell_type": "markdown",
      "metadata": {
        "id": "WDYLwWZ4_jIU",
        "colab_type": "text"
      },
      "source": [
        "# RNNs"
      ]
    },
    {
      "cell_type": "code",
      "metadata": {
        "id": "lkjmlrtcwDX3",
        "colab_type": "code",
        "colab": {}
      },
      "source": [
        "gru_units = 200\n",
        "max_l = 48"
      ],
      "execution_count": 0,
      "outputs": []
    },
    {
      "cell_type": "code",
      "metadata": {
        "id": "vKKA3B8L3zTI",
        "colab_type": "code",
        "outputId": "9dce9437-a135-4dd9-d41f-6e4668a0dfc7",
        "colab": {
          "base_uri": "https://localhost:8080/",
          "height": 394
        }
      },
      "source": [
        "inpt = Input((None,942))\n",
        "enc_gru = GRU(gru_units,return_sequences=True,return_state=True)\n",
        "enc_gru_outpt,enc_gru_h = enc_gru(inpt)\n",
        "slot_outpt = TimeDistributed(Dense(128,activation='softmax'),name='slot_outpt')(enc_gru_outpt)\n",
        "dec_gru = GRU(gru_units,return_state=True)\n",
        "_,dec_gru_context = dec_gru(inpt,initial_state=enc_gru_h)\n",
        "intent_outpt = Dense(26,activation='softmax',name='intent_outpt')(dec_gru_context)\n",
        "model = Model(inpt,[slot_outpt,intent_outpt])\n",
        "model.summary()"
      ],
      "execution_count": 0,
      "outputs": [
        {
          "output_type": "stream",
          "text": [
            "WARNING:tensorflow:From /usr/local/lib/python3.6/dist-packages/tensorflow/python/framework/op_def_library.py:263: colocate_with (from tensorflow.python.framework.ops) is deprecated and will be removed in a future version.\n",
            "Instructions for updating:\n",
            "Colocations handled automatically by placer.\n",
            "__________________________________________________________________________________________________\n",
            "Layer (type)                    Output Shape         Param #     Connected to                     \n",
            "==================================================================================================\n",
            "input_1 (InputLayer)            (None, None, 942)    0                                            \n",
            "__________________________________________________________________________________________________\n",
            "gru_1 (GRU)                     [(None, None, 200),  685800      input_1[0][0]                    \n",
            "__________________________________________________________________________________________________\n",
            "gru_2 (GRU)                     [(None, 200), (None, 685800      input_1[0][0]                    \n",
            "                                                                 gru_1[0][1]                      \n",
            "__________________________________________________________________________________________________\n",
            "slot_outpt (TimeDistributed)    (None, None, 128)    25728       gru_1[0][0]                      \n",
            "__________________________________________________________________________________________________\n",
            "intent_outpt (Dense)            (None, 26)           5226        gru_2[0][1]                      \n",
            "==================================================================================================\n",
            "Total params: 1,402,554\n",
            "Trainable params: 1,402,554\n",
            "Non-trainable params: 0\n",
            "__________________________________________________________________________________________________\n"
          ],
          "name": "stdout"
        }
      ]
    },
    {
      "cell_type": "code",
      "metadata": {
        "id": "u2V1iJGkg8qq",
        "colab_type": "code",
        "colab": {}
      },
      "source": [
        "plot_model(model, to_file='joint_model.png')"
      ],
      "execution_count": 0,
      "outputs": []
    },
    {
      "cell_type": "markdown",
      "metadata": {
        "id": "JuoI_aU0J7y1",
        "colab_type": "text"
      },
      "source": [
        "# Train"
      ]
    },
    {
      "cell_type": "code",
      "metadata": {
        "id": "ECogANJnWEJF",
        "colab_type": "code",
        "colab": {}
      },
      "source": [
        "def seq_metric_fn(s):\n",
        "  def seq_metric(y_true,y_pred):\n",
        "    y_mul = np.zeros((s,1))\n",
        "    for i in range(s):\n",
        "      y_mul[i] = i\n",
        "    y_mul = K.cast(y_mul,K.floatx())\n",
        "    y_true = K.dot(y_true,y_mul)\n",
        "    y_pred = K.dot(y_pred,y_mul)\n",
        "    return K.mean(K.square(y_true-y_pred))\n",
        "  return seq_metric\n",
        "seq_metric128 = seq_metric_fn(128)\n",
        "seq_metric26 = seq_metric_fn(26)"
      ],
      "execution_count": 0,
      "outputs": []
    },
    {
      "cell_type": "code",
      "metadata": {
        "id": "llPoMXVxhS_c",
        "colab_type": "code",
        "colab": {}
      },
      "source": [
        "output = {'slot_outpt':train_out_data,'intent_outpt':train_intent_data}\n",
        "losses = {'slot_outpt':'categorical_crossentropy','intent_outpt':'categorical_crossentropy'}\n",
        "loss_weights = {'slot_outpt':1,'intent_outpt':1}"
      ],
      "execution_count": 0,
      "outputs": []
    },
    {
      "cell_type": "code",
      "metadata": {
        "id": "MCKzM8r4SS-c",
        "colab_type": "code",
        "outputId": "5527a7d2-8e49-4b1c-9f1a-d96c9414692c",
        "colab": {
          "base_uri": "https://localhost:8080/",
          "height": 136
        }
      },
      "source": [
        "print(np.argmax(train_data,axis=-1)[5])\n",
        "print(np.argmax(train_out_data,axis=-1)[5])\n",
        "print(np.argmax(train_intent_data,axis=-1)[5])"
      ],
      "execution_count": 0,
      "outputs": [
        {
          "output_type": "stream",
          "text": [
            "[177 915 512 645 195 497 891 653 179 427 443 303 850 338 178   0   0   0\n",
            "   0   0   0   0   0   0   0   0   0   0   0   0   0   0   0   0   0   0\n",
            "   0   0   0   0   0   0   0   0   0   0   0   0]\n",
            "[127 127 127 127 127 127 127 127 127 127 127  47 127  77 127   0   0   0\n",
            "   0   0   0   0   0   0   0   0   0   0   0   0   0   0   0   0   0   0\n",
            "   0   0   0   0   0   0   0   0   0   0   0   0]\n",
            "1\n"
          ],
          "name": "stdout"
        }
      ]
    },
    {
      "cell_type": "code",
      "metadata": {
        "id": "vu6ZCcUjV1Y_",
        "colab_type": "code",
        "colab": {}
      },
      "source": [
        "model.compile(optimizer='adam',loss=losses,loss_weights=loss_weights,metrics=['acc'])\n"
      ],
      "execution_count": 0,
      "outputs": []
    },
    {
      "cell_type": "code",
      "metadata": {
        "id": "n5UbGVEq077w",
        "colab_type": "code",
        "colab": {}
      },
      "source": [
        "es = EarlyStopping(monitor='val_loss',mode='min',verbose=1,patience=3)\n",
        "cp = ModelCheckpoint(filepath='./gdrive/My Drive/Colab Notebooks/joint_weights.hdf5',monitor='val_loss',mode='min', verbose=1,save_weights_only=True, save_best_only=True)"
      ],
      "execution_count": 0,
      "outputs": []
    },
    {
      "cell_type": "code",
      "metadata": {
        "id": "i6VIizZ3WIUw",
        "colab_type": "code",
        "outputId": "03febd2a-6ea0-4b26-fece-d0319e106171",
        "colab": {
          "base_uri": "https://localhost:8080/",
          "height": 802
        }
      },
      "source": [
        "history = model.fit(train_data,output,epochs=10,batch_size=1,validation_split=0.05,callbacks=[es,cp])"
      ],
      "execution_count": 0,
      "outputs": [
        {
          "output_type": "stream",
          "text": [
            "WARNING:tensorflow:From /usr/local/lib/python3.6/dist-packages/tensorflow/python/ops/math_ops.py:3066: to_int32 (from tensorflow.python.ops.math_ops) is deprecated and will be removed in a future version.\n",
            "Instructions for updating:\n",
            "Use tf.cast instead.\n",
            "Train on 3800 samples, validate on 200 samples\n",
            "Epoch 1/10\n",
            "3800/3800 [==============================] - 631s 166ms/step - loss: 0.9836 - slot_outpt_loss: 0.1662 - intent_outpt_loss: 0.8175 - slot_outpt_acc: 0.9698 - intent_outpt_acc: 0.8166 - val_loss: 0.4342 - val_slot_outpt_loss: 0.0381 - val_intent_outpt_loss: 0.3962 - val_slot_outpt_acc: 0.9926 - val_intent_outpt_acc: 0.9200\n",
            "\n",
            "Epoch 00001: val_loss improved from inf to 0.43421, saving model to ./gdrive/My Drive/Colab Notebooks/slot_weights.hdf5\n",
            "Epoch 2/10\n",
            "3800/3800 [==============================] - 405s 107ms/step - loss: 0.2550 - slot_outpt_loss: 0.0351 - intent_outpt_loss: 0.2200 - slot_outpt_acc: 0.9926 - intent_outpt_acc: 0.9466 - val_loss: 0.3242 - val_slot_outpt_loss: 0.0268 - val_intent_outpt_loss: 0.2974 - val_slot_outpt_acc: 0.9929 - val_intent_outpt_acc: 0.9450\n",
            "\n",
            "Epoch 00002: val_loss improved from 0.43421 to 0.32418, saving model to ./gdrive/My Drive/Colab Notebooks/slot_weights.hdf5\n",
            "Epoch 3/10\n",
            "3800/3800 [==============================] - 354s 93ms/step - loss: 0.1387 - slot_outpt_loss: 0.0151 - intent_outpt_loss: 0.1235 - slot_outpt_acc: 0.9964 - intent_outpt_acc: 0.9708 - val_loss: 0.2185 - val_slot_outpt_loss: 0.0228 - val_intent_outpt_loss: 0.1958 - val_slot_outpt_acc: 0.9941 - val_intent_outpt_acc: 0.9450\n",
            "\n",
            "Epoch 00003: val_loss improved from 0.32418 to 0.21851, saving model to ./gdrive/My Drive/Colab Notebooks/slot_weights.hdf5\n",
            "Epoch 4/10\n",
            "3800/3800 [==============================] - 351s 92ms/step - loss: 0.0969 - slot_outpt_loss: 0.0108 - intent_outpt_loss: 0.0861 - slot_outpt_acc: 0.9972 - intent_outpt_acc: 0.9776 - val_loss: 0.1873 - val_slot_outpt_loss: 0.0200 - val_intent_outpt_loss: 0.1673 - val_slot_outpt_acc: 0.9953 - val_intent_outpt_acc: 0.9650\n",
            "\n",
            "Epoch 00004: val_loss improved from 0.21851 to 0.18734, saving model to ./gdrive/My Drive/Colab Notebooks/slot_weights.hdf5\n",
            "Epoch 5/10\n",
            "3800/3800 [==============================] - 352s 93ms/step - loss: 0.0628 - slot_outpt_loss: 0.0084 - intent_outpt_loss: 0.0544 - slot_outpt_acc: 0.9977 - intent_outpt_acc: 0.9861 - val_loss: 0.1313 - val_slot_outpt_loss: 0.0208 - val_intent_outpt_loss: 0.1105 - val_slot_outpt_acc: 0.9953 - val_intent_outpt_acc: 0.9850\n",
            "\n",
            "Epoch 00005: val_loss improved from 0.18734 to 0.13135, saving model to ./gdrive/My Drive/Colab Notebooks/slot_weights.hdf5\n",
            "Epoch 6/10\n",
            "3800/3800 [==============================] - 352s 93ms/step - loss: 0.0503 - slot_outpt_loss: 0.0064 - intent_outpt_loss: 0.0438 - slot_outpt_acc: 0.9981 - intent_outpt_acc: 0.9879 - val_loss: 0.1320 - val_slot_outpt_loss: 0.0213 - val_intent_outpt_loss: 0.1107 - val_slot_outpt_acc: 0.9951 - val_intent_outpt_acc: 0.9850\n",
            "\n",
            "Epoch 00006: val_loss did not improve from 0.13135\n",
            "Epoch 7/10\n",
            "3800/3800 [==============================] - 350s 92ms/step - loss: 0.0336 - slot_outpt_loss: 0.0051 - intent_outpt_loss: 0.0285 - slot_outpt_acc: 0.9985 - intent_outpt_acc: 0.9924 - val_loss: 0.1101 - val_slot_outpt_loss: 0.0190 - val_intent_outpt_loss: 0.0911 - val_slot_outpt_acc: 0.9955 - val_intent_outpt_acc: 0.9950\n",
            "\n",
            "Epoch 00007: val_loss improved from 0.13135 to 0.11007, saving model to ./gdrive/My Drive/Colab Notebooks/slot_weights.hdf5\n",
            "Epoch 8/10\n",
            "3800/3800 [==============================] - 351s 92ms/step - loss: 0.0209 - slot_outpt_loss: 0.0044 - intent_outpt_loss: 0.0165 - slot_outpt_acc: 0.9988 - intent_outpt_acc: 0.9955 - val_loss: 0.1403 - val_slot_outpt_loss: 0.0204 - val_intent_outpt_loss: 0.1199 - val_slot_outpt_acc: 0.9959 - val_intent_outpt_acc: 0.9900\n",
            "\n",
            "Epoch 00008: val_loss did not improve from 0.11007\n",
            "Epoch 9/10\n",
            "3800/3800 [==============================] - 348s 92ms/step - loss: 0.0294 - slot_outpt_loss: 0.0041 - intent_outpt_loss: 0.0253 - slot_outpt_acc: 0.9988 - intent_outpt_acc: 0.9950 - val_loss: 0.1108 - val_slot_outpt_loss: 0.0188 - val_intent_outpt_loss: 0.0920 - val_slot_outpt_acc: 0.9958 - val_intent_outpt_acc: 0.9950\n",
            "\n",
            "Epoch 00009: val_loss did not improve from 0.11007\n",
            "Epoch 10/10\n",
            "3800/3800 [==============================] - 350s 92ms/step - loss: 0.0255 - slot_outpt_loss: 0.0040 - intent_outpt_loss: 0.0215 - slot_outpt_acc: 0.9989 - intent_outpt_acc: 0.9937 - val_loss: 0.1916 - val_slot_outpt_loss: 0.0246 - val_intent_outpt_loss: 0.1669 - val_slot_outpt_acc: 0.9952 - val_intent_outpt_acc: 0.9850\n",
            "\n",
            "Epoch 00010: val_loss did not improve from 0.11007\n",
            "Epoch 00010: early stopping\n"
          ],
          "name": "stdout"
        }
      ]
    },
    {
      "cell_type": "code",
      "metadata": {
        "id": "iOH1gHVXzjNU",
        "colab_type": "code",
        "colab": {}
      },
      "source": [
        "model.save_weights('joint_model.h5')"
      ],
      "execution_count": 0,
      "outputs": []
    },
    {
      "cell_type": "code",
      "metadata": {
        "id": "7JZmXscaRXDA",
        "colab_type": "code",
        "outputId": "aeb8a76a-d82f-456f-80e2-a1f7c5bf4ce2",
        "colab": {
          "base_uri": "https://localhost:8080/",
          "height": 54
        }
      },
      "source": [
        "print(history.history.keys())\n",
        "#plt.figure()\n",
        "#plt.plot(history.history['seq_metric'][1:])\n",
        "#plt.plot(history.history['val_seq_metric'][1:])\n",
        "#plt.figure()\n",
        "#plt.plot(history.history['loss'])\n",
        "#plt.plot(history.history['val_loss'])"
      ],
      "execution_count": 0,
      "outputs": [
        {
          "output_type": "stream",
          "text": [
            "dict_keys(['val_loss', 'val_slot_outpt_loss', 'val_intent_outpt_loss', 'val_slot_outpt_acc', 'val_intent_outpt_acc', 'loss', 'slot_outpt_loss', 'intent_outpt_loss', 'slot_outpt_acc', 'intent_outpt_acc'])\n"
          ],
          "name": "stdout"
        }
      ]
    },
    {
      "cell_type": "markdown",
      "metadata": {
        "id": "RIOnEtjTKCwM",
        "colab_type": "text"
      },
      "source": [
        "# Inference"
      ]
    },
    {
      "cell_type": "code",
      "metadata": {
        "id": "Jg7j2I9jYqur",
        "colab_type": "code",
        "colab": {}
      },
      "source": [
        "slots_pred = np.zeros((ltest,48,128),dtype='object')\n",
        "intent_pred = np.zeros((ltest,26),dtype='object')\n",
        "for i in range(ltest):\n",
        "  slots_pred[i],intent_pred[i] = model.predict(test_data[i].reshape(1,48,942))"
      ],
      "execution_count": 0,
      "outputs": []
    },
    {
      "cell_type": "code",
      "metadata": {
        "id": "2Scvtq__4WE7",
        "colab_type": "code",
        "colab": {}
      },
      "source": [
        "slots_pred_train = np.zeros((l,48,128),dtype='object')\n",
        "intent_pred_train = np.zeros((l,26),dtype='object')\n",
        "for i in range(l):\n",
        "  slots_pred_train[i],intent_pred_train[i] = model.predict(train_data[i].reshape(1,48,942))"
      ],
      "execution_count": 0,
      "outputs": []
    },
    {
      "cell_type": "code",
      "metadata": {
        "id": "XdGaFL60ha4w",
        "colab_type": "code",
        "outputId": "0d5715b3-e258-4ee7-da37-4e4b708cbb38",
        "colab": {
          "base_uri": "https://localhost:8080/",
          "height": 119
        }
      },
      "source": [
        "n=100\n",
        "print(np.argmax(slots_pred[n],axis=-1))\n",
        "a = np.argmax(test_out_data[n],axis=-1)\n",
        "print(a)"
      ],
      "execution_count": 0,
      "outputs": [
        {
          "output_type": "stream",
          "text": [
            "[127 127  43 127 127  47 127  77 127 127  14  11 127   0   0   0   0   0\n",
            "   0   0   0   0   0   0   0   0   0   0   0   0   0   0   0   0   0   0\n",
            "   0   0   0   0   0   0   0   0   0   0   0   0]\n",
            "[127 127  43 127 127  47 127  77 127 127  14  11 127   0   0   0   0   0\n",
            "   0   0   0   0   0   0   0   0   0   0   0   0   0   0   0   0   0   0\n",
            "   0   0   0   0   0   0   0   0   0   0   0   0]\n"
          ],
          "name": "stdout"
        }
      ]
    },
    {
      "cell_type": "code",
      "metadata": {
        "id": "qkZqppNxv_nG",
        "colab_type": "code",
        "colab": {}
      },
      "source": [
        "def accuracy(a,b):\n",
        "  summ = 0\n",
        "  for n in range(len(a)):\n",
        "    an = np.argmax(a[n],axis=-1)\n",
        "    bn = np.argmax(b[n],axis=-1)\n",
        "    summ += 1 if np.array_equal(an,bn) else 0\n",
        "  return float(summ)/len(a)"
      ],
      "execution_count": 0,
      "outputs": []
    },
    {
      "cell_type": "code",
      "metadata": {
        "id": "weznHkyi3tqw",
        "colab_type": "code",
        "outputId": "4536d753-b594-4283-8f5f-af6499220fb5",
        "colab": {
          "base_uri": "https://localhost:8080/",
          "height": 51
        }
      },
      "source": [
        "print('test_accuracy:'+str(accuracy(test_out_data,slots_pred)))\n",
        "print('train_accuracy:'+str(accuracy(train_out_data,slots_pred_train)))"
      ],
      "execution_count": 0,
      "outputs": [
        {
          "output_type": "stream",
          "text": [
            "test_accuracy:0.9600818833162743\n",
            "train_accuracy:0.95925\n"
          ],
          "name": "stdout"
        }
      ]
    },
    {
      "cell_type": "code",
      "metadata": {
        "id": "A_1IMOkDM_Sp",
        "colab_type": "code",
        "colab": {}
      },
      "source": [
        "#print('test_accuracy:'+str(1-np.sum([test_intent_data-np.argmax(intent_pred,axis=-1)])/ltest))\n",
        "#print('train_accuracy:'+str(1-np.sum([np.argmax(train_intent_data,axis=-1)-np.argmax(intent_pred_train,axis=-1)])/l))"
      ],
      "execution_count": 0,
      "outputs": []
    },
    {
      "cell_type": "code",
      "metadata": {
        "id": "gZ09Fn4WVn-o",
        "colab_type": "code",
        "outputId": "0eb16870-a1e5-41ae-c8ce-54b9d5696733",
        "colab": {
          "base_uri": "https://localhost:8080/",
          "height": 51
        }
      },
      "source": [
        "print('test_accuracy:'+str(accuracy(test_intent_data,intent_pred)))\n",
        "print('train_accuracy:'+str(accuracy(train_intent_data,intent_pred_train)))"
      ],
      "execution_count": 0,
      "outputs": [
        {
          "output_type": "stream",
          "text": [
            "test_accuracy:0.9948822927328557\n",
            "train_accuracy:0.99675\n"
          ],
          "name": "stdout"
        }
      ]
    },
    {
      "cell_type": "code",
      "metadata": {
        "id": "lM7fFJaCM6qq",
        "colab_type": "code",
        "colab": {}
      },
      "source": [
        "#K.clear_session()"
      ],
      "execution_count": 0,
      "outputs": []
    }
  ]
}